{
 "cells": [
  {
   "cell_type": "code",
   "execution_count": 45,
   "id": "da73845b",
   "metadata": {},
   "outputs": [],
   "source": [
    "import numpy as np\n",
    "import matplotlib.pyplot as plt\n",
    "\n",
    "from scipy.special import erf\n",
    "from scipy.special import logsumexp"
   ]
  },
  {
   "cell_type": "code",
   "execution_count": 218,
   "id": "1b939073",
   "metadata": {},
   "outputs": [],
   "source": [
    "def truncnorm(xx, mu, sigma, high, low):\n",
    "    \"\"\" ripped from gwpop v1.1.1 -- Colm's later version has a nan switch\n",
    "        that breaks autodiff!\n",
    "    \"\"\"\n",
    "    norm = 2**0.5 / np.pi**0.5 / sigma\n",
    "    norm /= erf((high - mu) / 2**0.5 / sigma) + erf(\n",
    "        (mu - low) / 2**0.5 / sigma\n",
    "    )\n",
    "    prob = np.exp(-np.power(xx - mu, 2) / (2 * sigma**2))\n",
    "    prob *= norm\n",
    "    prob *= (xx <= high) & (xx >= low)\n",
    "    return prob"
   ]
  },
  {
   "cell_type": "markdown",
   "id": "5e0d8969",
   "metadata": {},
   "source": [
    "I'll generate an equal number of VT samples from each subpopulation of:\n",
    "- isotropic\n",
    "- near-peak ($\\lesssim 20^\\circ$)\n",
    "- hyper-peak ($\\lesssim 10^\\circ$)\n",
    "\n",
    "But how do we choose how many of these, in each subpopulation, to run parameter estimation on?\n",
    "\n",
    "We want to do parameter estimation on $\\lesssim 10^3$ sources and we want catalogs of $\\cal O(10^2)$ sources; so we want a reweighting efficiency of $>10\\%$."
   ]
  },
  {
   "cell_type": "code",
   "execution_count": null,
   "id": "23951807",
   "metadata": {},
   "outputs": [],
   "source": [
    "rng = np.random.default_rng(1)\n",
    "xi_draw = 0.9\n",
    "low = 0.99\n",
    "\n",
    "def draw(low):\n",
    "    u = rng.uniform()\n",
    "    if u < xi_draw:\n",
    "        t1 = rng.uniform(low=low, high=1)\n",
    "        t2 = rng.uniform(low=low, high=1)\n",
    "    else:\n",
    "        t1 = rng.uniform(low=-1, high=1)\n",
    "        t2 = rng.uniform(low=-1, high=1)\n",
    "    return t1, t2"
   ]
  },
  {
   "cell_type": "code",
   "execution_count": 201,
   "id": "f2ea301c",
   "metadata": {},
   "outputs": [],
   "source": [
    "taus = np.stack([ draw() for _ in range(10_000) ])"
   ]
  },
  {
   "cell_type": "code",
   "execution_count": 202,
   "id": "303a46f2",
   "metadata": {},
   "outputs": [
    {
     "data": {
      "image/png": "[encoded data removed]",
      "text/plain": [
       "<Figure size 640x480 with 1 Axes>"
      ]
     },
     "metadata": {},
     "output_type": "display_data"
    }
   ],
   "source": [
    "fig, ax = plt.subplots()\n",
    "ax.hist(taus[:, 0], histtype='step', bins=50);"
   ]
  },
  {
   "cell_type": "code",
   "execution_count": 203,
   "id": "22851ed9",
   "metadata": {},
   "outputs": [],
   "source": [
    "pdraw = (1 - xi_draw) / 4 + xi_draw / (1 - low) / (1 - low)"
   ]
  },
  {
   "cell_type": "code",
   "execution_count": 204,
   "id": "29a426ce",
   "metadata": {},
   "outputs": [],
   "source": [
    "log_pdraw = np.log(pdraw)"
   ]
  },
  {
   "cell_type": "code",
   "execution_count": 205,
   "id": "66c07137",
   "metadata": {},
   "outputs": [],
   "source": [
    "xi = 0.9\n",
    "\n",
    "def log_iso_gauss(cos_tau_1, cos_tau_2, xi, mu, sigma):\n",
    "    return logsumexp(np.array([\n",
    "        np.log((1 - xi) / 4),\n",
    "        (\n",
    "            np.log(xi)\n",
    "            + np.log(truncnorm(cos_tau_1, mu, sigma, high=1, low=-1))\n",
    "            + np.log(truncnorm(cos_tau_2, mu, sigma, high=1, low=-1))\n",
    "        )\n",
    "    ]))\n",
    "\n",
    "def log_iso_gauss_marg(cos_tau, xi, mu, sigma):\n",
    "    return logsumexp(np.array([\n",
    "        np.log((1 - xi) / 2),\n",
    "        (\n",
    "            np.log(xi)\n",
    "            + np.log(truncnorm(cos_tau, mu, sigma, high=1, low=-1))\n",
    "        )\n",
    "    ])) "
   ]
  },
  {
   "cell_type": "code",
   "execution_count": 212,
   "id": "95520efb",
   "metadata": {},
   "outputs": [
    {
     "name": "stderr",
     "output_type": "stream",
     "text": [
      "/tmp/ipykernel_2846558/2580263453.py:8: RuntimeWarning: divide by zero encountered in log\n",
      "  + np.log(truncnorm(cos_tau_1, mu, sigma, high=1, low=-1))\n",
      "/tmp/ipykernel_2846558/2580263453.py:9: RuntimeWarning: divide by zero encountered in log\n",
      "  + np.log(truncnorm(cos_tau_2, mu, sigma, high=1, low=-1))\n"
     ]
    }
   ],
   "source": [
    "xi = 0.9\n",
    "mu = 1\n",
    "sigma = 1e-4\n",
    "\n",
    "log_ptarget = np.array([\n",
    "    log_iso_gauss(\n",
    "        ct1,\n",
    "        ct2,\n",
    "        xi,\n",
    "        mu,\n",
    "        sigma\n",
    "    )\n",
    "    for ct1, ct2 in taus\n",
    "])"
   ]
  },
  {
   "cell_type": "code",
   "execution_count": 213,
   "id": "264dfe0c",
   "metadata": {},
   "outputs": [],
   "source": [
    "log_weights = log_ptarget - log_pdraw"
   ]
  },
  {
   "cell_type": "code",
   "execution_count": 214,
   "id": "53f2b967",
   "metadata": {},
   "outputs": [],
   "source": [
    "n = len(log_weights)\n",
    "log_evidence = logsumexp(log_weights) - np.log(n)\n",
    "\n",
    "log_norm_weights = log_weights - log_evidence - np.log(n)\n",
    "neff = np.exp(-logsumexp(2 * log_norm_weights))"
   ]
  },
  {
   "cell_type": "code",
   "execution_count": 215,
   "id": "1f37c343",
   "metadata": {},
   "outputs": [
    {
     "data": {
      "text/plain": [
       "np.float64(275.3396664226947)"
      ]
     },
     "execution_count": 215,
     "metadata": {},
     "output_type": "execute_result"
    }
   ],
   "source": [
    "neff"
   ]
  },
  {
   "cell_type": "code",
   "execution_count": 216,
   "id": "5147debe",
   "metadata": {},
   "outputs": [
    {
     "data": {
      "text/plain": [
       "(157, 2)"
      ]
     },
     "execution_count": 216,
     "metadata": {},
     "output_type": "execute_result"
    }
   ],
   "source": [
    "u = np.random.uniform(size=(10_000,))\n",
    "mask = u < np.exp(log_weights - np.max(log_weights))\n",
    "taus[mask].shape"
   ]
  },
  {
   "cell_type": "code",
   "execution_count": 217,
   "id": "d679d5cb",
   "metadata": {},
   "outputs": [
    {
     "name": "stderr",
     "output_type": "stream",
     "text": [
      "/tmp/ipykernel_2846558/2580263453.py:18: RuntimeWarning: divide by zero encountered in log\n",
      "  + np.log(truncnorm(cos_tau, mu, sigma, high=1, low=-1))\n"
     ]
    },
    {
     "data": {
      "image/png": "[encoded data removed]",
      "text/plain": [
       "<Figure size 640x480 with 1 Axes>"
      ]
     },
     "metadata": {},
     "output_type": "display_data"
    }
   ],
   "source": [
    "test_cts = np.linspace(-1, 1, 1_000)\n",
    "log_ptest = np.vectorize(lambda x: log_iso_gauss_marg(x, xi, mu, sigma))(test_cts)\n",
    "\n",
    "ks = dict(histtype='step', bins=np.linspace(-1, 1, 100), density=True)\n",
    "\n",
    "fig, ax = plt.subplots()\n",
    "ax.hist(taus[:, 0], **ks)\n",
    "ax.hist(taus[mask][:, 0], **ks)\n",
    "ax.plot(test_cts, np.exp(log_ptest))\n",
    "\n",
    "ax.set_yscale('log')"
   ]
  },
  {
   "cell_type": "code",
   "execution_count": null,
   "id": "3acd1949",
   "metadata": {},
   "outputs": [],
   "source": []
  }
 ],
 "metadata": {
  "kernelspec": {
   "display_name": "just-for-kicks",
   "language": "python",
   "name": "python3"
  },
  "language_info": {
   "codemirror_mode": {
    "name": "ipython",
    "version": 3
   },
   "file_extension": ".py",
   "mimetype": "text/x-python",
   "name": "python",
   "nbconvert_exporter": "python",
   "pygments_lexer": "ipython3",
   "version": "3.11.14"
  }
 },
 "nbformat": 4,
 "nbformat_minor": 5
}
