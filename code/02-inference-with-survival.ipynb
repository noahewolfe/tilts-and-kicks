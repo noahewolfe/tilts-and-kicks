{
 "cells": [
  {
   "cell_type": "code",
   "execution_count": 6,
   "id": "e02d29de",
   "metadata": {},
   "outputs": [
    {
     "name": "stdout",
     "output_type": "stream",
     "text": [
      "The autoreload extension is already loaded. To reload it, use:\n",
      "  %reload_ext autoreload\n"
     ]
    }
   ],
   "source": [
    "import matplotlib.pyplot as plt\n",
    "\n",
    "import jax\n",
    "jax.config.update('jax_enable_x64', True)\n",
    "jax.config.update('jax_debug_nans', True)\n",
    "import jax.numpy as jnp\n",
    "\n",
    "from jax.random import split\n",
    "\n",
    "from bilby_util import convert_bilby_uniform_prior\n",
    "\n",
    "from astro import calc_chieff\n",
    "from astro import get_merging_binary\n",
    "\n",
    "from flows import bounded_to_reals\n",
    "from flows import default_flow\n",
    "from variational import fit\n",
    "from variational import estimate_convergence\n",
    "\n",
    "from util import plot_loss\n",
    "from util import plot_multiple\n",
    "\n",
    "\n",
    "%load_ext autoreload\n",
    "%autoreload 2"
   ]
  },
  {
   "cell_type": "markdown",
   "id": "739a0a25",
   "metadata": {},
   "source": [
    "# attempts to sample in $\\chi_{\\rm eff}$"
   ]
  },
  {
   "cell_type": "code",
   "execution_count": 2,
   "id": "ff94416e",
   "metadata": {},
   "outputs": [],
   "source": [
    "param_keys, bounds, log_prior = convert_bilby_uniform_prior('./kick-prog.prior')"
   ]
  },
  {
   "cell_type": "code",
   "execution_count": 3,
   "id": "c416d88c",
   "metadata": {},
   "outputs": [],
   "source": [
    "prog_param_keys = [\n",
    "    'mbhmax',\n",
    "    'mturnover',\n",
    "    'sigma_mbh',\n",
    "    'alpha_prog_1',\n",
    "    'alpha_prog_2',\n",
    "    'sigma_kick'\n",
    "]"
   ]
  },
  {
   "cell_type": "code",
   "execution_count": 4,
   "id": "ed4bff6b",
   "metadata": {},
   "outputs": [],
   "source": [
    "prog_param_bounds = jnp.stack([\n",
    "    bounds[param_keys.index(k)]\n",
    "    for k in prog_param_keys\n",
    "])"
   ]
  },
  {
   "cell_type": "code",
   "execution_count": null,
   "id": "761e10c2",
   "metadata": {},
   "outputs": [],
   "source": [
    "def get_hyper_and_binary(key):\n",
    "    key, subkey = split(key)\n",
    "    c = jax.random.uniform(subkey)\n",
    "    c = (\n",
    "        c * (prog_param_bounds[:, 1] - prog_param_bounds[:, 0])\n",
    "        + prog_param_bounds[:, 0]\n",
    "    )\n",
    "\n",
    "    parameters = dict(zip(prog_param_keys, c))\n",
    "    binary = get_merging_binary(key, parameters)\n",
    "\n",
    "    mbh1, mbh2 = binary['mbh1'], binary['mbh2']\n",
    "    mbh2, mbh1 = jnp.sort(jnp.stack((mbh1, mbh2)), axis=0)\n",
    "\n",
    "    mass_ratio = mbh2 / mbh1\n",
    "    chi_eff = calc_chieff(mass_ratio, )\n",
    "    \n",
    "\n",
    "    c = bounded_to_reals(c, prog_param_bounds)\n",
    "    return cos_tau, c"
   ]
  },
  {
   "cell_type": "code",
   "execution_count": null,
   "id": "b060af1b",
   "metadata": {},
   "outputs": [],
   "source": []
  },
  {
   "cell_type": "markdown",
   "id": "a835ce6f",
   "metadata": {},
   "source": [
    "# attempts to sample in cosine-spin tilts"
   ]
  },
  {
   "cell_type": "markdown",
   "id": "158c1853",
   "metadata": {},
   "source": [
    "## This is wrong, **but** ...\n",
    "\n",
    "For simplicity, I'm going to learn two different flows; one for black hole primary mass and mass ratio, and one for cos tilt.\n",
    "When we combine these during inference, we'll implicitly assume that these distributions are independent (even though they aren't, really).\n",
    "This is so that we can make another (incorrect) assumption for simplicity; that $cos \\tau_1$ and $\\cos \\tau_2$ are i.i.d."
   ]
  },
  {
   "cell_type": "markdown",
   "id": "3250663c",
   "metadata": {},
   "source": [
    "### failed attempt with flows and other things"
   ]
  },
  {
   "cell_type": "code",
   "execution_count": null,
   "id": "b9b8bb03",
   "metadata": {},
   "outputs": [],
   "source": [
    "prog_param_keys = [\n",
    "    'mbhmax',\n",
    "    'mturnover',\n",
    "    'sigma_mbh',\n",
    "    'alpha_prog_1',\n",
    "    'alpha_prog_2',\n",
    "    'sigma_kick'\n",
    "]"
   ]
  },
  {
   "cell_type": "code",
   "execution_count": null,
   "id": "f0536611",
   "metadata": {},
   "outputs": [],
   "source": [
    "from flowjax.bijections.bijection import AbstractBijection\n",
    "from flowjax.distributions import Transformed\n",
    "from flowjax.distributions import StandardNormal\n",
    "\n",
    "import equinox as eqx\n",
    "\n",
    "class TrainableAffine(AbstractBijection):\n",
    "    r\"\"\"Elementwise affine transformation :math:`y = a \\cdot x + b`.\n",
    "\n",
    "    ``loc`` and ``scale`` should broadcast to the desired shape of the bijection.\n",
    "    By default, we constrain the scale parameter to be postive using ``softplus``, but\n",
    "    other parameterizations can be achieved by replacing the scale parameter after\n",
    "    construction e.g. using ``eqx.tree_at``.\n",
    "\n",
    "    Args:\n",
    "        loc: Location parameter. Defaults to 0.\n",
    "        scale: Scale parameter. Defaults to 1.\n",
    "    \"\"\"\n",
    "\n",
    "    shape: tuple[int, ...]\n",
    "    cond_shape: tuple[int, ...]\n",
    "    net: eqx.nn.MLP\n",
    "\n",
    "    def __init__(self, key, shape, cond_shape, width: int = 5, depth: int = 2):\n",
    "        self.shape = shape\n",
    "        self.cond_shape = cond_shape\n",
    "        self.net = eqx.nn.MLP(\n",
    "            key=key,\n",
    "            in_size=self.cond_shape[0],\n",
    "            out_size=2,\n",
    "            width_size=width,\n",
    "            depth=depth,\n",
    "            activation=jax.nn.elu\n",
    "        )\n",
    "\n",
    "    def get_loc_and_scale(self, condition):\n",
    "        loc, scale = self.net(condition)\n",
    "        scale = jax.nn.sigmoid(scale) #jax.nn.softplus(scale)\n",
    "        return loc, scale\n",
    "\n",
    "    def transform_and_log_det(self, x, condition=None):\n",
    "        loc, scale = self.get_loc_and_scale(condition)\n",
    "        return x * scale + loc, jnp.log(jnp.abs(scale)).sum()\n",
    "\n",
    "    def inverse_and_log_det(self, y, condition=None):\n",
    "        loc, scale = self.get_loc_and_scale(condition)\n",
    "        return (y - loc) / scale, -jnp.log(jnp.abs(scale)).sum()\n",
    "    \n",
    "def get_trainable_normal(key, shape, cond_shape, **kwargs):\n",
    "    bijection = TrainableAffine(key, shape, cond_shape, **kwargs)\n",
    "    base_dist = StandardNormal(shape)\n",
    "    return Transformed(base_dist, bijection)\n",
    "\n",
    "cos_tau_prior_init = get_trainable_normal(jax.random.key(2), (1,), (len(prog_param_keys),))"
   ]
  },
  {
   "cell_type": "code",
   "execution_count": null,
   "id": "cb588933",
   "metadata": {},
   "outputs": [],
   "source": [
    "from flows import default_flow\n",
    "\n",
    "cos_tau_prior_init = default_flow(\n",
    "    jax.random.key(2),\n",
    "    [ None ],\n",
    "    flow_layers=2,\n",
    "    nn_depth=10,\n",
    "    nn_block_dim=8,\n",
    "    cond_dim=len(prog_param_keys),\n",
    "    invert=True\n",
    ")"
   ]
  },
  {
   "cell_type": "code",
   "execution_count": null,
   "id": "9701640c",
   "metadata": {},
   "outputs": [],
   "source": [
    "param_keys, bounds, log_prior = convert_bilby_uniform_prior('./kick-prog.prior')"
   ]
  },
  {
   "cell_type": "code",
   "execution_count": null,
   "id": "eee89035",
   "metadata": {},
   "outputs": [],
   "source": [
    "prog_param_bounds = jnp.stack([\n",
    "    bounds[param_keys.index(k)]\n",
    "    for k in prog_param_keys\n",
    "])"
   ]
  },
  {
   "cell_type": "code",
   "execution_count": null,
   "id": "ee915b01",
   "metadata": {},
   "outputs": [],
   "source": [
    "def project_hyper_params_to_real(c):\n",
    "    return jax.scipy.special.logit(\n",
    "        (c - prog_param_bounds[:, 0]) / (prog_param_bounds[:, 1] - prog_param_bounds[:, 0])\n",
    "    )"
   ]
  },
  {
   "cell_type": "code",
   "execution_count": null,
   "id": "8eaecd8f",
   "metadata": {},
   "outputs": [],
   "source": [
    "def get_merging_binary(key, parameters):\n",
    "    def cond(carry):\n",
    "        _, binary = carry\n",
    "        return ~jnp.logical_and(binary['survive'], binary['merge'])\n",
    "\n",
    "    def body(carry):\n",
    "        key, _ = carry\n",
    "        key, subkey = split(key)\n",
    "        return key, get_sample(subkey, parameters)\n",
    "\n",
    "    init = body((key, None))\n",
    "    _, binary = jax.lax.while_loop(cond, body, init)\n",
    "    return binary"
   ]
  },
  {
   "cell_type": "code",
   "execution_count": null,
   "id": "7969a6ba",
   "metadata": {},
   "outputs": [],
   "source": [
    "def get_joint_tau_hyper_sample(key):\n",
    "    \"\"\" draw a hyperparameter sample; then draw cos_tau \"\"\"\n",
    "    key, subkey = split(key)\n",
    "    c = jax.random.uniform(subkey)\n",
    "    c = (\n",
    "        c * (prog_param_bounds[:, 1] - prog_param_bounds[:, 0])\n",
    "        + prog_param_bounds[:, 0]\n",
    "    )\n",
    "\n",
    "    parameters = dict(zip(prog_param_keys, c))\n",
    "    binary = get_merging_binary(key, parameters)\n",
    "\n",
    "    cos_tau = jnp.array([binary['cos_theta']])\n",
    "    cos_tau = jnp.clip(\n",
    "        cos_tau,\n",
    "        min=-1 + 1e-15,\n",
    "        max=1 - 1e-15\n",
    "    )\n",
    "\n",
    "    # project from bounded to real line\n",
    "    c = project_hyper_params_to_real(c)\n",
    "    return cos_tau, c"
   ]
  },
  {
   "cell_type": "code",
   "execution_count": null,
   "id": "4467ffcd",
   "metadata": {},
   "outputs": [],
   "source": [
    "keys = split(jax.random.key(1702), 10_000_000)\n",
    "xs, cs = jax.lax.map(get_joint_tau_hyper_sample, keys, batch_size=1_000_000)"
   ]
  },
  {
   "cell_type": "code",
   "execution_count": null,
   "id": "d41b125d",
   "metadata": {},
   "outputs": [],
   "source": [
    "xs = jnp.arctanh(xs)"
   ]
  },
  {
   "cell_type": "code",
   "execution_count": null,
   "id": "03f28949",
   "metadata": {},
   "outputs": [],
   "source": [
    "def get_sample_for_training(key):\n",
    "    i = jax.random.choice(key, 10_000_000)\n",
    "    return xs[i], cs[i]"
   ]
  },
  {
   "cell_type": "code",
   "execution_count": null,
   "id": "a07489dc",
   "metadata": {},
   "outputs": [
    {
     "name": "stderr",
     "output_type": "stream",
     "text": [
      "train: 100%|██████████| 10000/10000 [00:00<00:00, 11083.89it/s]\n"
     ]
    }
   ],
   "source": [
    "import optax\n",
    "from sbi import train as train_sbi\n",
    "\n",
    "lr = 1e-3\n",
    "steps = 10_000 \n",
    "\n",
    "learning_rate = optax.warmup_cosine_decay_schedule(\n",
    "    init_value=lr,\n",
    "    peak_value=lr,\n",
    "    warmup_steps=0,\n",
    "    decay_steps=steps,\n",
    "    end_value=lr\n",
    ")\n",
    "\n",
    "optimizer = optax.adam(learning_rate=learning_rate)\n",
    "\n",
    "cos_tau_prior, loss_tau = train_sbi(\n",
    "    jax.random.key(5),\n",
    "    cos_tau_prior_init,\n",
    "    get_sample_for_training, #get_joint_tau_hyper_sample,\n",
    "    steps,\n",
    "    optimizer,\n",
    "    batch_size=100, #50_000\n",
    ")"
   ]
  },
  {
   "cell_type": "code",
   "execution_count": null,
   "id": "d5888545",
   "metadata": {},
   "outputs": [
    {
     "data": {
      "text/plain": [
       "[<matplotlib.lines.Line2D at 0x152a91fcc790>]"
      ]
     },
     "execution_count": 268,
     "metadata": {},
     "output_type": "execute_result"
    },
    {
     "data": {
      "image/png": "[encoded data removed]",
      "text/plain": [
       "<Figure size 640x480 with 1 Axes>"
      ]
     },
     "metadata": {},
     "output_type": "display_data"
    }
   ],
   "source": [
    "fig, ax = plt.subplots()\n",
    "ax.plot(range(steps), loss_tau)"
   ]
  },
  {
   "cell_type": "markdown",
   "id": "8caac941",
   "metadata": {},
   "source": [
    "Deleted a few plots here, showing that the flow struggles to fit extremley peaky distributions."
   ]
  },
  {
   "cell_type": "markdown",
   "id": "12041bf0",
   "metadata": {},
   "source": [
    "## okay, new approach .. what if we draw a bunch of binaries for each pair of hyperparameters and fit a KDE?\n",
    "\n",
    "Nvm, this takes forever to sample --- ~4 s / likelihood evaluation!\n",
    "Can't use VI either b/c we can't reverse-mode differentiate through `jax.lax.while_loop`"
   ]
  },
  {
   "cell_type": "code",
   "execution_count": 9,
   "id": "d37b4a87",
   "metadata": {},
   "outputs": [],
   "source": [
    "mmin_abs = 1 # a ridiculous number, but just for testing\n",
    "mmax_abs = 300\n",
    "\n",
    "def get_merging_binary(key, parameters):\n",
    "    def cond(carry):\n",
    "        _, binary = carry\n",
    "        return ~jnp.logical_and(binary['survive'], binary['merge'])\n",
    "\n",
    "    def body(carry):\n",
    "        key, _ = carry\n",
    "        key, subkey = split(key)\n",
    "        return key, get_sample(subkey, parameters)\n",
    "\n",
    "    init = body((key, None))\n",
    "    _, binary = jax.lax.while_loop(cond, body, init)\n",
    "    return binary\n",
    "\n",
    "def kick_tilt_and_mass_model(parameters):\n",
    "    #key, subkey = split(key)\n",
    "    # TODO: is it kosher to use the same key everytime?\n",
    "    keys = split(jax.random.key(746566), 10_000)\n",
    "    binaries = jax.vmap(lambda k: get_merging_binary(k, parameters))(keys)\n",
    "\n",
    "    cos_tau = jnp.clip(\n",
    "        binaries['cos_theta'], min=-1 + 1e-15, max=1 - 1e-15\n",
    "    )\n",
    "    arctanh_cos_tau = jnp.arctanh(cos_tau)\n",
    "\n",
    "    # TODO: fit with kde!\n",
    "    kde_atanh_cos_tau = jax.scipy.stats.gaussian_kde(arctanh_cos_tau)\n",
    "\n",
    "    def p_cos_tau(cos_tau):\n",
    "        cos_tau = jnp.clip(cos_tau, min=-1 + 1e-15, max=1 - 1e-15)\n",
    "        p_atanh_cos_tau = kde_atanh_cos_tau(jnp.arctanh(cos_tau))\n",
    "        return p_atanh_cos_tau / (1 - cos_tau**2)\n",
    "    \n",
    "    mbh1, mbh2 = binaries['mbh1'], binaries['mbh2']\n",
    "    # sort by mass\n",
    "    #mbh1, mbh2 = mbh1, mbh2 if mbh2 < mbh1 else mbh2, mbh1\n",
    "    mbh2, mbh1 = jnp.sort(jnp.stack((mbh1, mbh2)), axis=0)\n",
    "\n",
    "    lnq = jnp.log(mbh2 / mbh1)\n",
    "    mbh1_tilde = jax.scipy.special.logit(\n",
    "        jnp.clip(\n",
    "            (mbh1 - mmin_abs) / (mmax_abs - mmin_abs),\n",
    "            min=1e-6,\n",
    "            max=1 - 1e-6\n",
    "        )\n",
    "    )\n",
    "\n",
    "    kde_m1lnq = jax.scipy.stats.gaussian_kde(jnp.stack((mbh1_tilde, lnq)))\n",
    "\n",
    "    def p_m1_q(mass_1, mass_ratio):\n",
    "        log_mass_ratio = jnp.log(mass_ratio)\n",
    "        y = jnp.clip(\n",
    "            (mass_1 - mmin_abs) / (mmax_abs - mmin_abs),\n",
    "            min=1e-6,\n",
    "            max=1 - 1e-6\n",
    "        )\n",
    "        mass_1_tilde = jax.scipy.special.logit(y)\n",
    "        p_m1_lnq = kde_m1lnq(jnp.stack((mass_1_tilde, log_mass_ratio)))\n",
    "\n",
    "        dlnq_dq = 1 / mass_ratio\n",
    "        dm1tilde_dm1 = (1 / y + 1 / (1 - y)) / (mmax_abs - mmin_abs)\n",
    "\n",
    "        return p_m1_lnq * jnp.abs(dlnq_dq * dm1tilde_dm1)\n",
    "\n",
    "    return p_cos_tau, p_m1_q\n"
   ]
  },
  {
   "cell_type": "code",
   "execution_count": 10,
   "id": "a6effbda",
   "metadata": {},
   "outputs": [],
   "source": [
    "from pixelpop.models.gwpop_models import PowerlawPlusPeak_MassRatio\n",
    "from pixelpop.models.gwpop_models import BrokenPowerlawPlusTwoPeaks_PrimaryMass\n",
    "\n",
    "def o4a_like_mass_model(dataset, parameters):\n",
    "    lam_tilde_0 = parameters['lam_tilde_0']\n",
    "    lam_tilde_1 = parameters['lam_tilde_1']\n",
    "    lam_tilde_2 = parameters['lam_tilde_2']\n",
    "\n",
    "    norm = lam_tilde_0 + lam_tilde_1 + lam_tilde_2\n",
    "    parameters['lam0'] = lam_tilde_0 / norm\n",
    "    parameters['lam1'] = lam_tilde_1 / norm\n",
    "    parameters['lam2'] = lam_tilde_2 / norm\n",
    "\n",
    "    #p_m1qzmag = bplm1q_plz_truncnormmag(dataset, parameters)\n",
    "\n",
    "    log_p_m1 = BrokenPowerlawPlusTwoPeaks_PrimaryMass(\n",
    "        dataset,\n",
    "        alpha_1=parameters['alpha1'],\n",
    "        alpha_2=parameters['alpha2'],\n",
    "        mmin=parameters['mmin'],\n",
    "        break_mass=parameters['mbreak'],\n",
    "        delta_m_1=parameters['delta_m'],\n",
    "        lam_fractions=[\n",
    "            parameters['lam0'],\n",
    "            parameters['lam1'],\n",
    "            parameters['lam2']\n",
    "        ],\n",
    "        mpp_1=parameters['mpp1'],\n",
    "        sigpp_1=parameters['sigpp1'],\n",
    "        mpp_2=parameters['mpp2'],\n",
    "        sigpp_2=parameters['sigpp2'],\n",
    "    )\n",
    "    p_m1 = jnp.exp(log_p_m1)\n",
    "\n",
    "    log_p_q = PowerlawPlusPeak_MassRatio(\n",
    "        dataset,\n",
    "        slope=parameters['beta'],\n",
    "        minimum=parameters['mmin'],\n",
    "        delta_m=parameters['delta_m']\n",
    "    )\n",
    "    p_q = jnp.exp(log_p_q)\n",
    "\n",
    "    return p_m1 * p_q"
   ]
  },
  {
   "cell_type": "code",
   "execution_count": 11,
   "id": "7055ad81",
   "metadata": {},
   "outputs": [],
   "source": [
    "def full_tilt_and_mass_model(dataset, parameters):\n",
    "    xi_spin = parameters['xi']\n",
    "\n",
    "    calc_p_kick_tilt, calc_p_kick_mass = kick_tilt_and_mass_model(parameters)\n",
    "\n",
    "    p_kick_tilt = jax.vmap(calc_p_kick_tilt)(dataset['cos_tilt_1'])\n",
    "    p_kick_tilt *= jax.vmap(calc_p_kick_tilt)(dataset['cos_tilt_2'])\n",
    "\n",
    "    p_kick_m1q = jax.vmap(lambda x: calc_p_kick_mass(x[0], x[1]))((dataset['mass_1'], dataset['mass_ratio']))\n",
    "\n",
    "    p_iso_tilt = 1 / 4\n",
    "    p_iso_m1q = o4a_like_mass_model(dataset, parameters)\n",
    " \n",
    "    return (1 - xi_spin) * p_iso_tilt * p_iso_m1q + xi_spin * p_kick_tilt * p_kick_m1q"
   ]
  },
  {
   "cell_type": "code",
   "execution_count": 25,
   "id": "65db4f3a",
   "metadata": {},
   "outputs": [],
   "source": [
    "from models import truncnorm\n",
    "from models import log_powerlaw_redshift\n",
    "\n",
    "def model_kick(dataset, parameters):\n",
    "    parameters['sigma_kick'] = jnp.exp(parameters['log_sigma_kick'])\n",
    "\n",
    "    log_p_z = log_powerlaw_redshift(dataset, parameters)\n",
    "    p_z = jnp.exp(log_p_z)\n",
    "\n",
    "    p_a1 = truncnorm(\n",
    "        dataset['a_1'],\n",
    "        parameters['mu_chi'],\n",
    "        parameters['sigma_chi'],\n",
    "        high=1,\n",
    "        low=0\n",
    "    )\n",
    "    p_a2 = truncnorm(\n",
    "        dataset['a_2'],\n",
    "        parameters['mu_chi'],\n",
    "        parameters['sigma_chi'],\n",
    "        high=1,\n",
    "        low=0\n",
    "    )\n",
    "\n",
    "    p_tilt = full_tilt_and_mass_model(dataset, parameters)\n",
    "\n",
    "    return p_z * p_a1 * p_a2 * p_tilt"
   ]
  },
  {
   "cell_type": "code",
   "execution_count": 26,
   "id": "b3efb8dc",
   "metadata": {},
   "outputs": [],
   "source": [
    "import pickle\n",
    "\n",
    "datadir = '/n/netscratch/iaifi_lab/Lab/newolfe/tilts-and-kicks'\n",
    "with open(f'{datadir}/posteriors.pkl', 'rb') as f:\n",
    "    posteriors = pickle.load(f)\n",
    "\n",
    "posteriors = {k : jnp.array(v) for k, v in posteriors.items()}\n",
    "\n",
    "with open(f'{datadir}/injections.pkl', 'rb') as f:\n",
    "    injections = pickle.load(f)\n",
    "\n",
    "injections = {k : jnp.array(v) for k, v in injections.items()}"
   ]
  },
  {
   "cell_type": "code",
   "execution_count": null,
   "id": "b3194967",
   "metadata": {},
   "outputs": [
    {
     "name": "stdout",
     "output_type": "stream",
     "text": [
      "log like ratio:  -5080.294381658539\n"
     ]
    }
   ],
   "source": [
    "import bilby\n",
    "import numpy as np\n",
    "from bilby_util import LikelihoodWrapper\n",
    "from likelihood import taper\n",
    "\n",
    "priors = bilby.core.prior.ConditionalPriorDict('kick-prog.prior')\n",
    "priors['xi'].maximum = 0.1 # mahybe variance blows up when this is too large b/c the disrtribution is too peaky?\n",
    "priors.pop('sigma_kick')\n",
    "\n",
    "priors['log_sigma_kick'] = bilby.core.prior.Uniform(\n",
    "    minimum=np.log(1e4), # ln(10 / km/s),\n",
    "    maximum=np.log(1e6), # ln(1000 / km / s)\n",
    ")\n",
    "\n",
    "bilby_likelihood = LikelihoodWrapper(\n",
    "    posteriors=posteriors,\n",
    "    injections=injections,\n",
    "    density=model_kick,\n",
    "    taper=lambda v: taper(4, v),\n",
    "    rate=False\n",
    ")\n",
    "bilby_likelihood.parameters.update(priors.sample())\n",
    "print('log like ratio: ', bilby_likelihood.log_likelihood_ratio())"
   ]
  },
  {
   "cell_type": "code",
   "execution_count": 28,
   "id": "86496fdd",
   "metadata": {},
   "outputs": [],
   "source": [
    "jax.config.update('jax_debug_nans', False)"
   ]
  },
  {
   "cell_type": "code",
   "execution_count": null,
   "id": "645bb7fb",
   "metadata": {},
   "outputs": [
    {
     "name": "stderr",
     "output_type": "stream",
     "text": [
      "21:05 bilby INFO    : Running for label 'dynesty', output will be saved to './runs/01-inference-with-survival/nest-16oct25'\n"
     ]
    }
   ],
   "source": [
    "bilby.core.utils.random.seed(1)\n",
    "result = bilby.run_sampler(\n",
    "    likelihood=bilby_likelihood,\n",
    "    priors=priors,\n",
    "    outdir='./runs/01-inference-with-survival/nest-16oct25',\n",
    "    sampler='dynesty',\n",
    "    nlive=50,\n",
    "    label='dynesty',\n",
    "    save='hdf5',\n",
    "    resume=False\n",
    ")"
   ]
  },
  {
   "cell_type": "code",
   "execution_count": null,
   "id": "e15fbd23",
   "metadata": {},
   "outputs": [],
   "source": []
  },
  {
   "cell_type": "markdown",
   "id": "0d60c600",
   "metadata": {},
   "source": [
    "we can't use variational inference b/c we can't reverse-mode differentiate through `while_loop` :("
   ]
  },
  {
   "cell_type": "code",
   "execution_count": null,
   "id": "2dedbfdf",
   "metadata": {},
   "outputs": [],
   "source": [
    "maximum_variance = 1\n",
    "\n",
    "def log_likelihood(parameters):\n",
    "    parameters = dict(zip(param_keys, parameters))\n",
    "    lkl, var, _, _, _ = shape_ln_likelihood_and_variance(\n",
    "        posteriors, injections, model_kick, parameters\n",
    "    )\n",
    "    return lkl, var\n",
    "\n",
    "\n",
    "def log_posterior(parameters):\n",
    "    lkl, var = log_likelihood(parameters)\n",
    "    return lkl + taper(maximum_variance, var) + log_prior(parameters)"
   ]
  },
  {
   "cell_type": "code",
   "execution_count": null,
   "id": "2f0e1a25",
   "metadata": {},
   "outputs": [],
   "source": [
    "flow_init = default_flow(jax.random.key(1), bounds)"
   ]
  },
  {
   "cell_type": "markdown",
   "id": "771460e9",
   "metadata": {},
   "source": [
    "Variational inference allows us to get a represenative (though not fully converged) estimate of the population posterior with only $10^4$ likelihood evaluations."
   ]
  },
  {
   "cell_type": "code",
   "execution_count": null,
   "id": "f0832960",
   "metadata": {},
   "outputs": [
    {
     "ename": "ValueError",
     "evalue": "Reverse-mode differentiation does not work for lax.while_loop or lax.fori_loop with dynamic start/stop values. Try using lax.scan, or using fori_loop with static start/stop.",
     "output_type": "error",
     "traceback": [
      "\u001b[31m---------------------------------------------------------------------------\u001b[39m",
      "\u001b[31mJaxStackTraceBeforeTransformation\u001b[39m         Traceback (most recent call last)",
      "\u001b[36mFile \u001b[39m\u001b[32m<frozen runpy>:198\u001b[39m, in \u001b[36m_run_module_as_main\u001b[39m\u001b[34m()\u001b[39m\n",
      "\u001b[36mFile \u001b[39m\u001b[32m<frozen runpy>:88\u001b[39m, in \u001b[36m_run_code\u001b[39m\u001b[34m()\u001b[39m\n",
      "\u001b[36mFile \u001b[39m\u001b[32m~/.conda/envs/seqpop/lib/python3.11/site-packages/ipykernel_launcher.py:18\u001b[39m\n\u001b[32m     16\u001b[39m \u001b[38;5;28;01mfrom\u001b[39;00m\u001b[38;5;250m \u001b[39m\u001b[34;01mipykernel\u001b[39;00m\u001b[38;5;250m \u001b[39m\u001b[38;5;28;01mimport\u001b[39;00m kernelapp \u001b[38;5;28;01mas\u001b[39;00m app\n\u001b[32m---> \u001b[39m\u001b[32m18\u001b[39m app.launch_new_instance()\n",
      "\u001b[36mFile \u001b[39m\u001b[32m~/.conda/envs/seqpop/lib/python3.11/site-packages/traitlets/config/application.py:1075\u001b[39m, in \u001b[36mlaunch_instance\u001b[39m\u001b[34m()\u001b[39m\n\u001b[32m   1074\u001b[39m app.initialize(argv)\n\u001b[32m-> \u001b[39m\u001b[32m1075\u001b[39m app.start()\n",
      "\u001b[36mFile \u001b[39m\u001b[32m~/.conda/envs/seqpop/lib/python3.11/site-packages/ipykernel/kernelapp.py:739\u001b[39m, in \u001b[36mstart\u001b[39m\u001b[34m()\u001b[39m\n\u001b[32m    738\u001b[39m \u001b[38;5;28;01mtry\u001b[39;00m:\n\u001b[32m--> \u001b[39m\u001b[32m739\u001b[39m     \u001b[38;5;28mself\u001b[39m.io_loop.start()\n\u001b[32m    740\u001b[39m \u001b[38;5;28;01mexcept\u001b[39;00m \u001b[38;5;167;01mKeyboardInterrupt\u001b[39;00m:\n",
      "\u001b[36mFile \u001b[39m\u001b[32m~/.conda/envs/seqpop/lib/python3.11/site-packages/tornado/platform/asyncio.py:211\u001b[39m, in \u001b[36mstart\u001b[39m\u001b[34m()\u001b[39m\n\u001b[32m    210\u001b[39m \u001b[38;5;28;01mdef\u001b[39;00m\u001b[38;5;250m \u001b[39m\u001b[34mstart\u001b[39m(\u001b[38;5;28mself\u001b[39m) -> \u001b[38;5;28;01mNone\u001b[39;00m:\n\u001b[32m--> \u001b[39m\u001b[32m211\u001b[39m     \u001b[38;5;28mself\u001b[39m.asyncio_loop.run_forever()\n",
      "\u001b[36mFile \u001b[39m\u001b[32m~/.conda/envs/seqpop/lib/python3.11/asyncio/base_events.py:608\u001b[39m, in \u001b[36mrun_forever\u001b[39m\u001b[34m()\u001b[39m\n\u001b[32m    607\u001b[39m \u001b[38;5;28;01mwhile\u001b[39;00m \u001b[38;5;28;01mTrue\u001b[39;00m:\n\u001b[32m--> \u001b[39m\u001b[32m608\u001b[39m     \u001b[38;5;28mself\u001b[39m._run_once()\n\u001b[32m    609\u001b[39m     \u001b[38;5;28;01mif\u001b[39;00m \u001b[38;5;28mself\u001b[39m._stopping:\n",
      "\u001b[36mFile \u001b[39m\u001b[32m~/.conda/envs/seqpop/lib/python3.11/asyncio/base_events.py:1936\u001b[39m, in \u001b[36m_run_once\u001b[39m\u001b[34m()\u001b[39m\n\u001b[32m   1935\u001b[39m     \u001b[38;5;28;01melse\u001b[39;00m:\n\u001b[32m-> \u001b[39m\u001b[32m1936\u001b[39m         handle._run()\n\u001b[32m   1937\u001b[39m handle = \u001b[38;5;28;01mNone\u001b[39;00m\n",
      "\u001b[36mFile \u001b[39m\u001b[32m~/.conda/envs/seqpop/lib/python3.11/asyncio/events.py:84\u001b[39m, in \u001b[36m_run\u001b[39m\u001b[34m()\u001b[39m\n\u001b[32m     83\u001b[39m \u001b[38;5;28;01mtry\u001b[39;00m:\n\u001b[32m---> \u001b[39m\u001b[32m84\u001b[39m     \u001b[38;5;28mself\u001b[39m._context.run(\u001b[38;5;28mself\u001b[39m._callback, *\u001b[38;5;28mself\u001b[39m._args)\n\u001b[32m     85\u001b[39m \u001b[38;5;28;01mexcept\u001b[39;00m (\u001b[38;5;167;01mSystemExit\u001b[39;00m, \u001b[38;5;167;01mKeyboardInterrupt\u001b[39;00m):\n",
      "\u001b[36mFile \u001b[39m\u001b[32m~/.conda/envs/seqpop/lib/python3.11/site-packages/ipykernel/kernelbase.py:545\u001b[39m, in \u001b[36mdispatch_queue\u001b[39m\u001b[34m()\u001b[39m\n\u001b[32m    544\u001b[39m \u001b[38;5;28;01mtry\u001b[39;00m:\n\u001b[32m--> \u001b[39m\u001b[32m545\u001b[39m     \u001b[38;5;28;01mawait\u001b[39;00m \u001b[38;5;28mself\u001b[39m.process_one()\n\u001b[32m    546\u001b[39m \u001b[38;5;28;01mexcept\u001b[39;00m \u001b[38;5;167;01mException\u001b[39;00m:\n",
      "\u001b[36mFile \u001b[39m\u001b[32m~/.conda/envs/seqpop/lib/python3.11/site-packages/ipykernel/kernelbase.py:534\u001b[39m, in \u001b[36mprocess_one\u001b[39m\u001b[34m()\u001b[39m\n\u001b[32m    533\u001b[39m         \u001b[38;5;28;01mreturn\u001b[39;00m\n\u001b[32m--> \u001b[39m\u001b[32m534\u001b[39m \u001b[38;5;28;01mawait\u001b[39;00m dispatch(*args)\n",
      "\u001b[36mFile \u001b[39m\u001b[32m~/.conda/envs/seqpop/lib/python3.11/site-packages/ipykernel/kernelbase.py:437\u001b[39m, in \u001b[36mdispatch_shell\u001b[39m\u001b[34m()\u001b[39m\n\u001b[32m    436\u001b[39m     \u001b[38;5;28;01mif\u001b[39;00m inspect.isawaitable(result):\n\u001b[32m--> \u001b[39m\u001b[32m437\u001b[39m         \u001b[38;5;28;01mawait\u001b[39;00m result\n\u001b[32m    438\u001b[39m \u001b[38;5;28;01mexcept\u001b[39;00m \u001b[38;5;167;01mException\u001b[39;00m:\n",
      "\u001b[36mFile \u001b[39m\u001b[32m~/.conda/envs/seqpop/lib/python3.11/site-packages/ipykernel/ipkernel.py:362\u001b[39m, in \u001b[36mexecute_request\u001b[39m\u001b[34m()\u001b[39m\n\u001b[32m    361\u001b[39m \u001b[38;5;28mself\u001b[39m._associate_new_top_level_threads_with(parent_header)\n\u001b[32m--> \u001b[39m\u001b[32m362\u001b[39m \u001b[38;5;28;01mawait\u001b[39;00m \u001b[38;5;28msuper\u001b[39m().execute_request(stream, ident, parent)\n",
      "\u001b[36mFile \u001b[39m\u001b[32m~/.conda/envs/seqpop/lib/python3.11/site-packages/ipykernel/kernelbase.py:778\u001b[39m, in \u001b[36mexecute_request\u001b[39m\u001b[34m()\u001b[39m\n\u001b[32m    777\u001b[39m \u001b[38;5;28;01mif\u001b[39;00m inspect.isawaitable(reply_content):\n\u001b[32m--> \u001b[39m\u001b[32m778\u001b[39m     reply_content = \u001b[38;5;28;01mawait\u001b[39;00m reply_content\n\u001b[32m    780\u001b[39m \u001b[38;5;66;03m# Flush output before sending the reply.\u001b[39;00m\n",
      "\u001b[36mFile \u001b[39m\u001b[32m~/.conda/envs/seqpop/lib/python3.11/site-packages/ipykernel/ipkernel.py:449\u001b[39m, in \u001b[36mdo_execute\u001b[39m\u001b[34m()\u001b[39m\n\u001b[32m    448\u001b[39m \u001b[38;5;28;01mif\u001b[39;00m accepts_params[\u001b[33m\"\u001b[39m\u001b[33mcell_id\u001b[39m\u001b[33m\"\u001b[39m]:\n\u001b[32m--> \u001b[39m\u001b[32m449\u001b[39m     res = shell.run_cell(\n\u001b[32m    450\u001b[39m         code,\n\u001b[32m    451\u001b[39m         store_history=store_history,\n\u001b[32m    452\u001b[39m         silent=silent,\n\u001b[32m    453\u001b[39m         cell_id=cell_id,\n\u001b[32m    454\u001b[39m     )\n\u001b[32m    455\u001b[39m \u001b[38;5;28;01melse\u001b[39;00m:\n",
      "\u001b[36mFile \u001b[39m\u001b[32m~/.conda/envs/seqpop/lib/python3.11/site-packages/ipykernel/zmqshell.py:549\u001b[39m, in \u001b[36mrun_cell\u001b[39m\u001b[34m()\u001b[39m\n\u001b[32m    548\u001b[39m \u001b[38;5;28mself\u001b[39m._last_traceback = \u001b[38;5;28;01mNone\u001b[39;00m\n\u001b[32m--> \u001b[39m\u001b[32m549\u001b[39m \u001b[38;5;28;01mreturn\u001b[39;00m \u001b[38;5;28msuper\u001b[39m().run_cell(*args, **kwargs)\n",
      "\u001b[36mFile \u001b[39m\u001b[32m~/.conda/envs/seqpop/lib/python3.11/site-packages/IPython/core/interactiveshell.py:3100\u001b[39m, in \u001b[36mrun_cell\u001b[39m\u001b[34m()\u001b[39m\n\u001b[32m   3099\u001b[39m \u001b[38;5;28;01mtry\u001b[39;00m:\n\u001b[32m-> \u001b[39m\u001b[32m3100\u001b[39m     result = \u001b[38;5;28mself\u001b[39m._run_cell(\n\u001b[32m   3101\u001b[39m         raw_cell, store_history, silent, shell_futures, cell_id\n\u001b[32m   3102\u001b[39m     )\n\u001b[32m   3103\u001b[39m \u001b[38;5;28;01mfinally\u001b[39;00m:\n",
      "\u001b[36mFile \u001b[39m\u001b[32m~/.conda/envs/seqpop/lib/python3.11/site-packages/IPython/core/interactiveshell.py:3155\u001b[39m, in \u001b[36m_run_cell\u001b[39m\u001b[34m()\u001b[39m\n\u001b[32m   3154\u001b[39m \u001b[38;5;28;01mtry\u001b[39;00m:\n\u001b[32m-> \u001b[39m\u001b[32m3155\u001b[39m     result = runner(coro)\n\u001b[32m   3156\u001b[39m \u001b[38;5;28;01mexcept\u001b[39;00m \u001b[38;5;167;01mBaseException\u001b[39;00m \u001b[38;5;28;01mas\u001b[39;00m e:\n",
      "\u001b[36mFile \u001b[39m\u001b[32m~/.conda/envs/seqpop/lib/python3.11/site-packages/IPython/core/async_helpers.py:128\u001b[39m, in \u001b[36m_pseudo_sync_runner\u001b[39m\u001b[34m()\u001b[39m\n\u001b[32m    127\u001b[39m \u001b[38;5;28;01mtry\u001b[39;00m:\n\u001b[32m--> \u001b[39m\u001b[32m128\u001b[39m     coro.send(\u001b[38;5;28;01mNone\u001b[39;00m)\n\u001b[32m    129\u001b[39m \u001b[38;5;28;01mexcept\u001b[39;00m \u001b[38;5;167;01mStopIteration\u001b[39;00m \u001b[38;5;28;01mas\u001b[39;00m exc:\n",
      "\u001b[36mFile \u001b[39m\u001b[32m~/.conda/envs/seqpop/lib/python3.11/site-packages/IPython/core/interactiveshell.py:3367\u001b[39m, in \u001b[36mrun_cell_async\u001b[39m\u001b[34m()\u001b[39m\n\u001b[32m   3364\u001b[39m interactivity = \u001b[33m\"\u001b[39m\u001b[33mnone\u001b[39m\u001b[33m\"\u001b[39m \u001b[38;5;28;01mif\u001b[39;00m silent \u001b[38;5;28;01melse\u001b[39;00m \u001b[38;5;28mself\u001b[39m.ast_node_interactivity\n\u001b[32m-> \u001b[39m\u001b[32m3367\u001b[39m has_raised = \u001b[38;5;28;01mawait\u001b[39;00m \u001b[38;5;28mself\u001b[39m.run_ast_nodes(code_ast.body, cell_name,\n\u001b[32m   3368\u001b[39m        interactivity=interactivity, compiler=compiler, result=result)\n\u001b[32m   3370\u001b[39m \u001b[38;5;28mself\u001b[39m.last_execution_succeeded = \u001b[38;5;129;01mnot\u001b[39;00m has_raised\n",
      "\u001b[36mFile \u001b[39m\u001b[32m~/.conda/envs/seqpop/lib/python3.11/site-packages/IPython/core/interactiveshell.py:3612\u001b[39m, in \u001b[36mrun_ast_nodes\u001b[39m\u001b[34m()\u001b[39m\n\u001b[32m   3611\u001b[39m     asy = compare(code)\n\u001b[32m-> \u001b[39m\u001b[32m3612\u001b[39m \u001b[38;5;28;01mif\u001b[39;00m \u001b[38;5;28;01mawait\u001b[39;00m \u001b[38;5;28mself\u001b[39m.run_code(code, result, async_=asy):\n\u001b[32m   3613\u001b[39m     \u001b[38;5;28;01mreturn\u001b[39;00m \u001b[38;5;28;01mTrue\u001b[39;00m\n",
      "\u001b[36mFile \u001b[39m\u001b[32m~/.conda/envs/seqpop/lib/python3.11/site-packages/IPython/core/interactiveshell.py:3672\u001b[39m, in \u001b[36mrun_code\u001b[39m\u001b[34m()\u001b[39m\n\u001b[32m   3671\u001b[39m     \u001b[38;5;28;01melse\u001b[39;00m:\n\u001b[32m-> \u001b[39m\u001b[32m3672\u001b[39m         exec(code_obj, \u001b[38;5;28mself\u001b[39m.user_global_ns, \u001b[38;5;28mself\u001b[39m.user_ns)\n\u001b[32m   3673\u001b[39m \u001b[38;5;28;01mfinally\u001b[39;00m:\n\u001b[32m   3674\u001b[39m     \u001b[38;5;66;03m# Reset our crash handler in place\u001b[39;00m\n",
      "\u001b[36mCell\u001b[39m\u001b[36m \u001b[39m\u001b[32mIn[200]\u001b[39m\u001b[32m, line 1\u001b[39m\n\u001b[32m----> \u001b[39m\u001b[32m1\u001b[39m flow, loss = fit(jax.random.key(\u001b[32m2\u001b[39m), flow_init, log_posterior, steps=\u001b[32m10\u001b[39m, batch_size=\u001b[32m10\u001b[39m)\n",
      "\u001b[36mFile \u001b[39m\u001b[32m~/projects/tilts-and-kicks/code/variational.py:32\u001b[39m, in \u001b[36mfit\u001b[39m\u001b[34m()\u001b[39m\n\u001b[32m     30\u001b[39m     optimizer = optax.adam(learning_rate=learning_rate) \n\u001b[32m---> \u001b[39m\u001b[32m32\u001b[39m flow, losses = train(\n\u001b[32m     33\u001b[39m     key,\n\u001b[32m     34\u001b[39m     flow,\n\u001b[32m     35\u001b[39m     \u001b[38;5;28;01mlambda\u001b[39;00m x, _ : log_target(x),\n\u001b[32m     36\u001b[39m     steps,\n\u001b[32m     37\u001b[39m     optimizer,\n\u001b[32m     38\u001b[39m     batch_size=batch_size\n\u001b[32m     39\u001b[39m )\n\u001b[32m     40\u001b[39m \u001b[38;5;28;01mreturn\u001b[39;00m flow, losses\n",
      "\u001b[36mFile \u001b[39m\u001b[32m~/projects/tilts-and-kicks/code/variational.py:183\u001b[39m, in \u001b[36mtrain\u001b[39m\u001b[34m()\u001b[39m\n\u001b[32m    181\u001b[39m         \u001b[38;5;28;01mreturn\u001b[39;00m (key, params, state), loss\n\u001b[32m--> \u001b[39m\u001b[32m183\u001b[39m (key, params, state), losses = jax.lax.scan(\n\u001b[32m    184\u001b[39m     update, (key, params, state), jnp.arange(steps),\n\u001b[32m    185\u001b[39m )\n\u001b[32m    186\u001b[39m flow = eqx.combine(params, static)\n",
      "\u001b[36mFile \u001b[39m\u001b[32m~/.conda/envs/seqpop/lib/python3.11/site-packages/jax_tqdm/scan_pbar.py:65\u001b[39m, in \u001b[36mwrapper_progress_bar\u001b[39m\u001b[34m()\u001b[39m\n\u001b[32m     64\u001b[39m carry, x = update_progress_bar((carry, x), iter_num, \u001b[32m0\u001b[39m)\n\u001b[32m---> \u001b[39m\u001b[32m65\u001b[39m result = func(carry, x)\n\u001b[32m     66\u001b[39m \u001b[38;5;28;01mreturn\u001b[39;00m close_tqdm(result, iter_num, \u001b[32m0\u001b[39m)\n",
      "\u001b[36mFile \u001b[39m\u001b[32m~/projects/tilts-and-kicks/code/variational.py:178\u001b[39m, in \u001b[36mupdate\u001b[39m\u001b[34m()\u001b[39m\n\u001b[32m    177\u001b[39m key, _key = jax.random.split(key)\n\u001b[32m--> \u001b[39m\u001b[32m178\u001b[39m loss, grad = eqx.filter_value_and_grad(loss_fn)(params, _key, step)\n\u001b[32m    179\u001b[39m updates, state = optimizer.update(grad, state, params)\n",
      "\u001b[36mFile \u001b[39m\u001b[32m~/projects/tilts-and-kicks/code/variational.py:133\u001b[39m, in \u001b[36mloss_fn\u001b[39m\u001b[34m()\u001b[39m\n\u001b[32m    132\u001b[39m samples, log_flows = flow.sample_and_log_prob(key, (batch_size,))\n\u001b[32m--> \u001b[39m\u001b[32m133\u001b[39m log_targets = jax.vmap(\u001b[38;5;28;01mlambda\u001b[39;00m x: log_target(x, step))(samples)\n\u001b[32m    134\u001b[39m \u001b[38;5;28;01mreturn\u001b[39;00m reverse_kl(log_targets, log_flows)\n",
      "\u001b[36mFile \u001b[39m\u001b[32m~/projects/tilts-and-kicks/code/variational.py:133\u001b[39m, in \u001b[36mtrain.<locals>.loss_fn.<locals>.<lambda>\u001b[39m\u001b[34m()\u001b[39m\n\u001b[32m    132\u001b[39m samples, log_flows = flow.sample_and_log_prob(key, (batch_size,))\n\u001b[32m--> \u001b[39m\u001b[32m133\u001b[39m log_targets = jax.vmap(\u001b[38;5;28;01mlambda\u001b[39;00m x: log_target(x, step))(samples)\n\u001b[32m    134\u001b[39m \u001b[38;5;28;01mreturn\u001b[39;00m reverse_kl(log_targets, log_flows)\n",
      "\u001b[36mFile \u001b[39m\u001b[32m~/projects/tilts-and-kicks/code/variational.py:35\u001b[39m, in \u001b[36mfit.<locals>.<lambda>\u001b[39m\u001b[34m()\u001b[39m\n\u001b[32m     30\u001b[39m     optimizer = optax.adam(learning_rate=learning_rate) \n\u001b[32m     32\u001b[39m flow, losses = train(\n\u001b[32m     33\u001b[39m     key,\n\u001b[32m     34\u001b[39m     flow,\n\u001b[32m---> \u001b[39m\u001b[32m35\u001b[39m     \u001b[38;5;28;01mlambda\u001b[39;00m x, _ : log_target(x),\n\u001b[32m     36\u001b[39m     steps,\n\u001b[32m     37\u001b[39m     optimizer,\n\u001b[32m     38\u001b[39m     batch_size=batch_size\n\u001b[32m     39\u001b[39m )\n\u001b[32m     40\u001b[39m \u001b[38;5;28;01mreturn\u001b[39;00m flow, losses\n",
      "\u001b[36mCell\u001b[39m\u001b[36m \u001b[39m\u001b[32mIn[198]\u001b[39m\u001b[32m, line 12\u001b[39m, in \u001b[36mlog_posterior\u001b[39m\u001b[34m()\u001b[39m\n\u001b[32m     11\u001b[39m \u001b[38;5;28;01mdef\u001b[39;00m\u001b[38;5;250m \u001b[39m\u001b[34mlog_posterior\u001b[39m(parameters):\n\u001b[32m---> \u001b[39m\u001b[32m12\u001b[39m     lkl, var = log_likelihood(parameters)\n\u001b[32m     13\u001b[39m     \u001b[38;5;28;01mreturn\u001b[39;00m lkl + taper(maximum_variance, var) + log_prior(parameters)\n",
      "\u001b[36mCell\u001b[39m\u001b[36m \u001b[39m\u001b[32mIn[198]\u001b[39m\u001b[32m, line 5\u001b[39m, in \u001b[36mlog_likelihood\u001b[39m\u001b[34m()\u001b[39m\n\u001b[32m      4\u001b[39m parameters = \u001b[38;5;28mdict\u001b[39m(\u001b[38;5;28mzip\u001b[39m(param_keys, parameters))\n\u001b[32m----> \u001b[39m\u001b[32m5\u001b[39m lkl, var, _, _, _ = shape_ln_likelihood_and_variance(\n\u001b[32m      6\u001b[39m     posteriors, injections, model_kick, parameters\n\u001b[32m      7\u001b[39m )\n\u001b[32m      8\u001b[39m \u001b[38;5;28;01mreturn\u001b[39;00m lkl, var\n",
      "\u001b[36mFile \u001b[39m\u001b[32m~/projects/tilts-and-kicks/code/likelihood.py:42\u001b[39m, in \u001b[36mshape_ln_likelihood_and_variance\u001b[39m\u001b[34m()\u001b[39m\n\u001b[32m     37\u001b[39m \u001b[38;5;28;01mdef\u001b[39;00m\u001b[38;5;250m \u001b[39m\u001b[34mshape_ln_likelihood_and_variance\u001b[39m(\n\u001b[32m     38\u001b[39m     posteriors, injections, density, parameters\n\u001b[32m     39\u001b[39m ):\n\u001b[32m     40\u001b[39m     (\n\u001b[32m     41\u001b[39m         ln_lkls, pdet, pe_variances, pdet_variance\n\u001b[32m---> \u001b[39m\u001b[32m42\u001b[39m     ) = event_ln_likelihoods_and_selection(\n\u001b[32m     43\u001b[39m         posteriors, injections, density, parameters\n\u001b[32m     44\u001b[39m     )\n\u001b[32m     46\u001b[39m     pe_variance = jnp.sum(pe_variances)\n",
      "\u001b[36mFile \u001b[39m\u001b[32m~/projects/tilts-and-kicks/code/likelihood.py:23\u001b[39m, in \u001b[36mevent_ln_likelihoods_and_selection\u001b[39m\u001b[34m()\u001b[39m\n\u001b[32m     22\u001b[39m pe_weights = density(posteriors, parameters) / posteriors[\u001b[33m'\u001b[39m\u001b[33mprior\u001b[39m\u001b[33m'\u001b[39m]\n\u001b[32m---> \u001b[39m\u001b[32m23\u001b[39m vt_weights = density(injections, parameters) / injections[\u001b[33m'\u001b[39m\u001b[33mprior\u001b[39m\u001b[33m'\u001b[39m]\n\u001b[32m     25\u001b[39m _, npe = pe_weights.shape\n",
      "\u001b[36mCell\u001b[39m\u001b[36m \u001b[39m\u001b[32mIn[196]\u001b[39m\u001b[32m, line 23\u001b[39m, in \u001b[36mmodel_kick\u001b[39m\u001b[34m()\u001b[39m\n\u001b[32m     15\u001b[39m p_a2 = truncnorm(\n\u001b[32m     16\u001b[39m     dataset[\u001b[33m'\u001b[39m\u001b[33ma_2\u001b[39m\u001b[33m'\u001b[39m],\n\u001b[32m     17\u001b[39m     parameters[\u001b[33m'\u001b[39m\u001b[33mmu_chi\u001b[39m\u001b[33m'\u001b[39m],\n\u001b[32m   (...)\u001b[39m\u001b[32m     20\u001b[39m     low=\u001b[32m0\u001b[39m\n\u001b[32m     21\u001b[39m )\n\u001b[32m---> \u001b[39m\u001b[32m23\u001b[39m p_tilt = full_tilt_and_mass_model(dataset, parameters)\n\u001b[32m     25\u001b[39m \u001b[38;5;28;01mreturn\u001b[39;00m p_z * p_a1 * p_a2 * p_tilt\n",
      "\u001b[36mCell\u001b[39m\u001b[36m \u001b[39m\u001b[32mIn[195]\u001b[39m\u001b[32m, line 4\u001b[39m, in \u001b[36mfull_tilt_and_mass_model\u001b[39m\u001b[34m()\u001b[39m\n\u001b[32m      2\u001b[39m xi_spin = parameters[\u001b[33m'\u001b[39m\u001b[33mxi\u001b[39m\u001b[33m'\u001b[39m]\n\u001b[32m----> \u001b[39m\u001b[32m4\u001b[39m calc_p_kick_tilt, calc_p_kick_mass = kick_tilt_and_mass_model(parameters)\n\u001b[32m      6\u001b[39m p_kick_tilt = jax.vmap(calc_p_kick_tilt)(dataset[\u001b[33m'\u001b[39m\u001b[33mcos_tilt_1\u001b[39m\u001b[33m'\u001b[39m])\n",
      "\u001b[36mCell\u001b[39m\u001b[36m \u001b[39m\u001b[32mIn[184]\u001b[39m\u001b[32m, line 8\u001b[39m, in \u001b[36mkick_tilt_and_mass_model\u001b[39m\u001b[34m()\u001b[39m\n\u001b[32m      7\u001b[39m keys = split(jax.random.key(\u001b[32m746566\u001b[39m), \u001b[32m10_000\u001b[39m)\n\u001b[32m----> \u001b[39m\u001b[32m8\u001b[39m binaries = jax.vmap(\u001b[38;5;28;01mlambda\u001b[39;00m k: get_merging_binary(k, parameters))(keys)\n\u001b[32m     10\u001b[39m cos_tau = jnp.clip(\n\u001b[32m     11\u001b[39m     binaries[\u001b[33m'\u001b[39m\u001b[33mcos_theta\u001b[39m\u001b[33m'\u001b[39m], \u001b[38;5;28mmin\u001b[39m=-\u001b[32m1\u001b[39m + \u001b[32m1e-15\u001b[39m, \u001b[38;5;28mmax\u001b[39m=\u001b[32m1\u001b[39m - \u001b[32m1e-15\u001b[39m\n\u001b[32m     12\u001b[39m )\n",
      "\u001b[36mCell\u001b[39m\u001b[36m \u001b[39m\u001b[32mIn[184]\u001b[39m\u001b[32m, line 8\u001b[39m, in \u001b[36mkick_tilt_and_mass_model.<locals>.<lambda>\u001b[39m\u001b[34m()\u001b[39m\n\u001b[32m      7\u001b[39m keys = split(jax.random.key(\u001b[32m746566\u001b[39m), \u001b[32m10_000\u001b[39m)\n\u001b[32m----> \u001b[39m\u001b[32m8\u001b[39m binaries = jax.vmap(\u001b[38;5;28;01mlambda\u001b[39;00m k: get_merging_binary(k, parameters))(keys)\n\u001b[32m     10\u001b[39m cos_tau = jnp.clip(\n\u001b[32m     11\u001b[39m     binaries[\u001b[33m'\u001b[39m\u001b[33mcos_theta\u001b[39m\u001b[33m'\u001b[39m], \u001b[38;5;28mmin\u001b[39m=-\u001b[32m1\u001b[39m + \u001b[32m1e-15\u001b[39m, \u001b[38;5;28mmax\u001b[39m=\u001b[32m1\u001b[39m - \u001b[32m1e-15\u001b[39m\n\u001b[32m     12\u001b[39m )\n",
      "\u001b[36mCell\u001b[39m\u001b[36m \u001b[39m\u001b[32mIn[102]\u001b[39m\u001b[32m, line 12\u001b[39m, in \u001b[36mget_merging_binary\u001b[39m\u001b[34m()\u001b[39m\n\u001b[32m     11\u001b[39m init = body((key, \u001b[38;5;28;01mNone\u001b[39;00m))\n\u001b[32m---> \u001b[39m\u001b[32m12\u001b[39m _, binary = jax.lax.while_loop(cond, body, init)\n\u001b[32m     13\u001b[39m \u001b[38;5;28;01mreturn\u001b[39;00m binary\n",
      "\u001b[31mJaxStackTraceBeforeTransformation\u001b[39m: ValueError: Reverse-mode differentiation does not work for lax.while_loop or lax.fori_loop with dynamic start/stop values. Try using lax.scan, or using fori_loop with static start/stop.\n\nThe preceding stack trace is the source of the JAX operation that, once transformed by JAX, triggered the following exception.\n\n--------------------",
      "\nThe above exception was the direct cause of the following exception:\n",
      "\u001b[31mValueError\u001b[39m                                Traceback (most recent call last)",
      "\u001b[36mCell\u001b[39m\u001b[36m \u001b[39m\u001b[32mIn[200]\u001b[39m\u001b[32m, line 1\u001b[39m\n\u001b[32m----> \u001b[39m\u001b[32m1\u001b[39m flow, loss = \u001b[43mfit\u001b[49m\u001b[43m(\u001b[49m\u001b[43mjax\u001b[49m\u001b[43m.\u001b[49m\u001b[43mrandom\u001b[49m\u001b[43m.\u001b[49m\u001b[43mkey\u001b[49m\u001b[43m(\u001b[49m\u001b[32;43m2\u001b[39;49m\u001b[43m)\u001b[49m\u001b[43m,\u001b[49m\u001b[43m \u001b[49m\u001b[43mflow_init\u001b[49m\u001b[43m,\u001b[49m\u001b[43m \u001b[49m\u001b[43mlog_posterior\u001b[49m\u001b[43m,\u001b[49m\u001b[43m \u001b[49m\u001b[43msteps\u001b[49m\u001b[43m=\u001b[49m\u001b[32;43m10\u001b[39;49m\u001b[43m,\u001b[49m\u001b[43m \u001b[49m\u001b[43mbatch_size\u001b[49m\u001b[43m=\u001b[49m\u001b[32;43m10\u001b[39;49m\u001b[43m)\u001b[49m\n",
      "\u001b[36mFile \u001b[39m\u001b[32m~/projects/tilts-and-kicks/code/variational.py:32\u001b[39m, in \u001b[36mfit\u001b[39m\u001b[34m(key, flow, log_target, clip, lr, steps, batch_size)\u001b[39m\n\u001b[32m     29\u001b[39m \u001b[38;5;28;01melse\u001b[39;00m:\n\u001b[32m     30\u001b[39m     optimizer = optax.adam(learning_rate=learning_rate) \n\u001b[32m---> \u001b[39m\u001b[32m32\u001b[39m flow, losses = \u001b[43mtrain\u001b[49m\u001b[43m(\u001b[49m\n\u001b[32m     33\u001b[39m \u001b[43m    \u001b[49m\u001b[43mkey\u001b[49m\u001b[43m,\u001b[49m\n\u001b[32m     34\u001b[39m \u001b[43m    \u001b[49m\u001b[43mflow\u001b[49m\u001b[43m,\u001b[49m\n\u001b[32m     35\u001b[39m \u001b[43m    \u001b[49m\u001b[38;5;28;43;01mlambda\u001b[39;49;00m\u001b[43m \u001b[49m\u001b[43mx\u001b[49m\u001b[43m,\u001b[49m\u001b[43m \u001b[49m\u001b[43m_\u001b[49m\u001b[43m \u001b[49m\u001b[43m:\u001b[49m\u001b[43m \u001b[49m\u001b[43mlog_target\u001b[49m\u001b[43m(\u001b[49m\u001b[43mx\u001b[49m\u001b[43m)\u001b[49m\u001b[43m,\u001b[49m\n\u001b[32m     36\u001b[39m \u001b[43m    \u001b[49m\u001b[43msteps\u001b[49m\u001b[43m,\u001b[49m\n\u001b[32m     37\u001b[39m \u001b[43m    \u001b[49m\u001b[43moptimizer\u001b[49m\u001b[43m,\u001b[49m\n\u001b[32m     38\u001b[39m \u001b[43m    \u001b[49m\u001b[43mbatch_size\u001b[49m\u001b[43m=\u001b[49m\u001b[43mbatch_size\u001b[49m\n\u001b[32m     39\u001b[39m \u001b[43m\u001b[49m\u001b[43m)\u001b[49m\n\u001b[32m     40\u001b[39m \u001b[38;5;28;01mreturn\u001b[39;00m flow, losses\n",
      "\u001b[36mFile \u001b[39m\u001b[32m~/projects/tilts-and-kicks/code/variational.py:183\u001b[39m, in \u001b[36mtrain\u001b[39m\u001b[34m(key, flow, log_target, steps, optimizer, batch_size, map_batch_size, reject_non_finite, state, return_state)\u001b[39m\n\u001b[32m    180\u001b[39m         params = eqx.apply_updates(params, updates)\n\u001b[32m    181\u001b[39m         \u001b[38;5;28;01mreturn\u001b[39;00m (key, params, state), loss\n\u001b[32m--> \u001b[39m\u001b[32m183\u001b[39m (key, params, state), losses = \u001b[43mjax\u001b[49m\u001b[43m.\u001b[49m\u001b[43mlax\u001b[49m\u001b[43m.\u001b[49m\u001b[43mscan\u001b[49m\u001b[43m(\u001b[49m\n\u001b[32m    184\u001b[39m \u001b[43m    \u001b[49m\u001b[43mupdate\u001b[49m\u001b[43m,\u001b[49m\u001b[43m \u001b[49m\u001b[43m(\u001b[49m\u001b[43mkey\u001b[49m\u001b[43m,\u001b[49m\u001b[43m \u001b[49m\u001b[43mparams\u001b[49m\u001b[43m,\u001b[49m\u001b[43m \u001b[49m\u001b[43mstate\u001b[49m\u001b[43m)\u001b[49m\u001b[43m,\u001b[49m\u001b[43m \u001b[49m\u001b[43mjnp\u001b[49m\u001b[43m.\u001b[49m\u001b[43marange\u001b[49m\u001b[43m(\u001b[49m\u001b[43msteps\u001b[49m\u001b[43m)\u001b[49m\u001b[43m,\u001b[49m\n\u001b[32m    185\u001b[39m \u001b[43m\u001b[49m\u001b[43m)\u001b[49m\n\u001b[32m    186\u001b[39m flow = eqx.combine(params, static)\n\u001b[32m    188\u001b[39m \u001b[38;5;28;01mif\u001b[39;00m return_state:\n",
      "    \u001b[31m[... skipping hidden 10 frame]\u001b[39m\n",
      "\u001b[36mFile \u001b[39m\u001b[32m~/.conda/envs/seqpop/lib/python3.11/site-packages/jax_tqdm/scan_pbar.py:65\u001b[39m, in \u001b[36mscan_tqdm.<locals>._scan_tqdm.<locals>.wrapper_progress_bar\u001b[39m\u001b[34m(carry, x)\u001b[39m\n\u001b[32m     63\u001b[39m \u001b[38;5;28;01melse\u001b[39;00m:\n\u001b[32m     64\u001b[39m     carry, x = update_progress_bar((carry, x), iter_num, \u001b[32m0\u001b[39m)\n\u001b[32m---> \u001b[39m\u001b[32m65\u001b[39m     result = \u001b[43mfunc\u001b[49m\u001b[43m(\u001b[49m\u001b[43mcarry\u001b[49m\u001b[43m,\u001b[49m\u001b[43m \u001b[49m\u001b[43mx\u001b[49m\u001b[43m)\u001b[49m\n\u001b[32m     66\u001b[39m     \u001b[38;5;28;01mreturn\u001b[39;00m close_tqdm(result, iter_num, \u001b[32m0\u001b[39m)\n",
      "    \u001b[31m[... skipping hidden 19 frame]\u001b[39m\n",
      "\u001b[36mFile \u001b[39m\u001b[32m~/projects/tilts-and-kicks/code/variational.py:178\u001b[39m, in \u001b[36mtrain.<locals>.update\u001b[39m\u001b[34m(carry, step)\u001b[39m\n\u001b[32m    176\u001b[39m key, params, state = carry\n\u001b[32m    177\u001b[39m key, _key = jax.random.split(key)\n\u001b[32m--> \u001b[39m\u001b[32m178\u001b[39m loss, grad = \u001b[43meqx\u001b[49m\u001b[43m.\u001b[49m\u001b[43mfilter_value_and_grad\u001b[49m\u001b[43m(\u001b[49m\u001b[43mloss_fn\u001b[49m\u001b[43m)\u001b[49m\u001b[43m(\u001b[49m\u001b[43mparams\u001b[49m\u001b[43m,\u001b[49m\u001b[43m \u001b[49m\u001b[43m_key\u001b[49m\u001b[43m,\u001b[49m\u001b[43m \u001b[49m\u001b[43mstep\u001b[49m\u001b[43m)\u001b[49m\n\u001b[32m    179\u001b[39m updates, state = optimizer.update(grad, state, params)\n\u001b[32m    180\u001b[39m params = eqx.apply_updates(params, updates)\n",
      "    \u001b[31m[... skipping hidden 9 frame]\u001b[39m\n",
      "\u001b[36mFile \u001b[39m\u001b[32m~/.conda/envs/seqpop/lib/python3.11/site-packages/jax/_src/lax/control_flow/loops.py:2067\u001b[39m, in \u001b[36m_while_transpose_error\u001b[39m\u001b[34m(*_, **kwargs)\u001b[39m\n\u001b[32m   2066\u001b[39m \u001b[38;5;28;01mdef\u001b[39;00m\u001b[38;5;250m \u001b[39m\u001b[34m_while_transpose_error\u001b[39m(*_, **kwargs):\n\u001b[32m-> \u001b[39m\u001b[32m2067\u001b[39m   \u001b[38;5;28;01mraise\u001b[39;00m \u001b[38;5;167;01mValueError\u001b[39;00m(\u001b[33m\"\u001b[39m\u001b[33mReverse-mode differentiation does not work for \u001b[39m\u001b[33m\"\u001b[39m\n\u001b[32m   2068\u001b[39m                    \u001b[33m\"\u001b[39m\u001b[33mlax.while_loop or lax.fori_loop with dynamic start/stop values. \u001b[39m\u001b[33m\"\u001b[39m\n\u001b[32m   2069\u001b[39m                    \u001b[33m\"\u001b[39m\u001b[33mTry using lax.scan, or using fori_loop with static start/stop.\u001b[39m\u001b[33m\"\u001b[39m)\n",
      "\u001b[31mValueError\u001b[39m: Reverse-mode differentiation does not work for lax.while_loop or lax.fori_loop with dynamic start/stop values. Try using lax.scan, or using fori_loop with static start/stop."
     ]
    }
   ],
   "source": [
    "flow, loss = fit(jax.random.key(2), flow_init, log_posterior, steps=10, batch_size=10)"
   ]
  },
  {
   "cell_type": "markdown",
   "id": "56eb1835",
   "metadata": {},
   "source": [
    "Loss curve of variational inference -- lower is better, although we don't have the evidence $Z$ a-priori, so it won't go to zero. Instead, it should plateau at some value $\\sim -\\ln Z$."
   ]
  },
  {
   "cell_type": "code",
   "execution_count": null,
   "id": "88e02613",
   "metadata": {},
   "outputs": [
    {
     "data": {
      "text/plain": [
       "(<Figure size 640x480 with 1 Axes>, <Axes: >)"
      ]
     },
     "metadata": {},
     "output_type": "display_data"
    },
    {
     "data": {
      "image/png": "[encoded data removed]",
      "text/plain": [
       "<Figure size 640x480 with 1 Axes>"
      ]
     },
     "metadata": {},
     "output_type": "display_data"
    }
   ],
   "source": [
    "plot_loss(loss, zoom=True)"
   ]
  }
 ],
 "metadata": {
  "kernelspec": {
   "display_name": "seqpop",
   "language": "python",
   "name": "python3"
  },
  "language_info": {
   "codemirror_mode": {
    "name": "ipython",
    "version": 3
   },
   "file_extension": ".py",
   "mimetype": "text/x-python",
   "name": "python",
   "nbconvert_exporter": "python",
   "pygments_lexer": "ipython3",
   "version": "3.11.13"
  }
 },
 "nbformat": 4,
 "nbformat_minor": 5
}
