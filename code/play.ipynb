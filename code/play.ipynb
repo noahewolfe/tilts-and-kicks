{
 "cells": [
  {
   "cell_type": "code",
   "execution_count": 1,
   "id": "7c3a94ae",
   "metadata": {},
   "outputs": [
    {
     "name": "stderr",
     "output_type": "stream",
     "text": [
      "/home/noah.wolfe/.conda/envs/seqpop/lib/python3.11/site-packages/tqdm/auto.py:21: TqdmWarning: IProgress not found. Please update jupyter and ipywidgets. See https://ipywidgets.readthedocs.io/en/stable/user_install.html\n",
      "  from .autonotebook import tqdm as notebook_tqdm\n"
     ]
    }
   ],
   "source": [
    "import os\n",
    "os.environ['CUDA_VISIBLE_DEVICES'] = '1'\n",
    "\n",
    "import jax\n",
    "jax.config.update('jax_enable_x64', True)\n",
    "jax.config.update('jax_debug_nans', True)\n",
    "import jax.numpy as jnp\n",
    "import jax.scipy.stats as jss\n",
    "\n",
    "from data import get_posteriors\n",
    "from data import get_injections\n",
    "\n",
    "from bilby_util import convert_bilby_uniform_prior\n",
    "\n",
    "from models import truncnorm\n",
    "from models import iso_gauss_spin_tilt\n",
    "from models import log_powerlaw_redshift\n",
    "from pixelpop.models.gwpop_models import PowerlawPlusPeak_MassRatio\n",
    "from pixelpop.models.gwpop_models import BrokenPowerlawPlusTwoPeaks_PrimaryMass\n",
    "\n",
    "from likelihood import taper\n",
    "from likelihood import shape_ln_likelihood_and_variance\n",
    "\n",
    "from flows import default_flow\n",
    "from variational import fit\n",
    "from variational import estimate_convergence\n",
    "\n",
    "%load_ext autoreload\n",
    "%autoreload 2"
   ]
  },
  {
   "cell_type": "code",
   "execution_count": 2,
   "id": "eedacb52",
   "metadata": {},
   "outputs": [
    {
     "name": "stderr",
     "output_type": "stream",
     "text": [
      "100%|██████████| 153/153 [01:23<00:00,  1.84it/s]\n"
     ]
    }
   ],
   "source": [
    "posteriors, events = get_posteriors()"
   ]
  },
  {
   "cell_type": "code",
   "execution_count": 3,
   "id": "dd61ec90",
   "metadata": {},
   "outputs": [
    {
     "data": {
      "text/plain": [
       "Array(6.96051393, dtype=float64)"
      ]
     },
     "execution_count": 3,
     "metadata": {},
     "output_type": "execute_result"
    }
   ],
   "source": [
    "jnp.min(jnp.max(posteriors['mass_1_source'] * posteriors['mass_ratio'], axis=1))"
   ]
  },
  {
   "cell_type": "code",
   "execution_count": 4,
   "id": "b9ad3815",
   "metadata": {},
   "outputs": [],
   "source": [
    "posteriors['mass_1'] = posteriors.pop('mass_1_source')"
   ]
  },
  {
   "cell_type": "code",
   "execution_count": 5,
   "id": "6b10702e",
   "metadata": {},
   "outputs": [],
   "source": [
    "injections = get_injections()"
   ]
  },
  {
   "cell_type": "code",
   "execution_count": 6,
   "id": "25bc2975",
   "metadata": {},
   "outputs": [],
   "source": [
    "injections['mass_1'] = injections.pop('mass_1_source')"
   ]
  },
  {
   "cell_type": "code",
   "execution_count": 7,
   "id": "7c08edb7",
   "metadata": {},
   "outputs": [],
   "source": [
    "injections['total_generated'] = injections.pop('total')"
   ]
  },
  {
   "cell_type": "markdown",
   "id": "63cfdf94",
   "metadata": {},
   "source": [
    "## simple kick distribution"
   ]
  },
  {
   "cell_type": "code",
   "execution_count": 8,
   "id": "4f48f757",
   "metadata": {},
   "outputs": [],
   "source": [
    "from flows import bound_from_unbound\n",
    "from flowjax.distributions import StandardNormal\n",
    "from flowjax.bijections import RationalQuadraticSpline\n",
    "from flowjax.flows import coupling_flow\n",
    "\n",
    "default_kwargs = dict(\n",
    "    key=jax.random.key(1),\n",
    "    base_dist=StandardNormal(shape=(1,)),\n",
    "    invert=False,\n",
    "    nn_depth=1,\n",
    "    nn_width=5,\n",
    "    flow_layers=1,\n",
    "    cond_dim=1\n",
    ")\n",
    "\n",
    "transformer = RationalQuadraticSpline(knots=5, interval=(-5, 5))\n",
    "cos_tau_prior_init = coupling_flow(transformer=transformer, **default_kwargs)\n",
    "cos_tau_prior_init = bound_from_unbound(cos_tau_prior_init, [[-1, 1]])"
   ]
  },
  {
   "cell_type": "code",
   "execution_count": 9,
   "id": "594f2647",
   "metadata": {},
   "outputs": [
    {
     "data": {
      "text/plain": [
       "112"
      ]
     },
     "execution_count": 9,
     "metadata": {},
     "output_type": "execute_result"
    }
   ],
   "source": [
    "from flows import count_params\n",
    "count_params(cos_tau_prior_init)"
   ]
  },
  {
   "cell_type": "code",
   "execution_count": 10,
   "id": "57cf92fd",
   "metadata": {},
   "outputs": [],
   "source": [
    "def calc_cos_tau_from_kick(u, cos_theta, cos_phi):\n",
    "    theta = jnp.arccos(cos_theta)\n",
    "    numer = u * cos_theta + 1\n",
    "    denom = (u * jnp.sin(theta) * cos_phi)**2 + numer**2\n",
    "    return numer / jnp.sqrt(denom)"
   ]
  },
  {
   "cell_type": "code",
   "execution_count": 11,
   "id": "e839a34d",
   "metadata": {},
   "outputs": [],
   "source": [
    "import equinox as eqx\n",
    "import optax\n",
    "from paramax import NonTrainable\n",
    "from jax_tqdm import scan_tqdm\n",
    "\n",
    "def train_cos_tau_prior(\n",
    "    key,\n",
    "    flow,\n",
    "    steps,\n",
    "    optimizer=None,\n",
    "    batch_size=1,\n",
    "):\n",
    "    params, static = eqx.partition(\n",
    "        pytree=flow,\n",
    "        filter_spec=eqx.is_inexact_array,\n",
    "        is_leaf=lambda leaf: isinstance(leaf, NonTrainable),\n",
    "    )\n",
    "\n",
    "    def get_batch(key):\n",
    "        key, subkey = jax.random.split(key)\n",
    "        cos_phi = jax.random.uniform(subkey, shape=(batch_size,)) * 2 - 1\n",
    "\n",
    "        key, subkey = jax.random.split(key)\n",
    "        x = jax.random.uniform(subkey, shape=(batch_size,))\n",
    "        cos_theta = 1 - 2 * x\n",
    "\n",
    "        key, subkey = jax.random.split(key)\n",
    "        u = jax.random.uniform(subkey, shape=(batch_size,)) * 2\n",
    "\n",
    "        cos_tau = calc_cos_tau_from_kick(u, cos_theta, cos_phi)\n",
    "\n",
    "        return cos_tau[:, None], u[:, None]\n",
    "\n",
    "    def loss_fn(params, key, step):\n",
    "        flow = eqx.combine(params, static)\n",
    "        batch = get_batch(key)\n",
    "        log_q = jax.vmap(lambda x: flow.log_prob(*x))(batch)\n",
    "        return -jnp.mean(log_q)\n",
    "   \n",
    "    state = optimizer.init(params)\n",
    "\n",
    "    @scan_tqdm(steps, desc='train')\n",
    "    @eqx.filter_jit\n",
    "    def update(carry, step):\n",
    "        key, params, state = carry\n",
    "        key, _key = jax.random.split(key)\n",
    "        loss, grad = eqx.filter_value_and_grad(loss_fn)(params, _key, step)\n",
    "        updates, state = optimizer.update(grad, state, params)\n",
    "        params = eqx.apply_updates(params, updates)\n",
    "        return (key, params, state), loss\n",
    "\n",
    "    (key, params, state), losses = jax.lax.scan(\n",
    "        update, (key, params, state), jnp.arange(steps),\n",
    "    )\n",
    "    flow = eqx.combine(params, static)\n",
    "\n",
    "    return flow, losses\n"
   ]
  },
  {
   "cell_type": "code",
   "execution_count": 12,
   "id": "280d9410",
   "metadata": {},
   "outputs": [
    {
     "name": "stderr",
     "output_type": "stream",
     "text": [
      "train: 100%|██████████| 10000/10000 [00:12<00:00, 793.49it/s]\n"
     ]
    }
   ],
   "source": [
    "lr = 1e-3\n",
    "steps = 10_000\n",
    "\n",
    "learning_rate = optax.warmup_cosine_decay_schedule(\n",
    "    init_value=lr,\n",
    "    peak_value=lr,\n",
    "    warmup_steps=0,\n",
    "    decay_steps=steps,\n",
    "    end_value=lr\n",
    ")\n",
    "\n",
    "optimizer = optax.adam(learning_rate=learning_rate)\n",
    "\n",
    "cos_tau_prior, loss = train_cos_tau_prior(jax.random.key(12), cos_tau_prior_init, steps, optimizer, batch_size=10_000)"
   ]
  },
  {
   "cell_type": "code",
   "execution_count": 13,
   "id": "54614897",
   "metadata": {},
   "outputs": [
    {
     "data": {
      "text/plain": [
       "(<Figure size 640x480 with 1 Axes>, <Axes: >)"
      ]
     },
     "execution_count": 13,
     "metadata": {},
     "output_type": "execute_result"
    },
    {
     "data": {
      "image/png": "[encoded data removed]",
      "text/plain": [
       "<Figure size 640x480 with 1 Axes>"
      ]
     },
     "metadata": {},
     "output_type": "display_data"
    }
   ],
   "source": [
    "from util import plot_loss\n",
    "plot_loss(loss)"
   ]
  },
  {
   "cell_type": "code",
   "execution_count": 14,
   "id": "053e2edd",
   "metadata": {},
   "outputs": [],
   "source": [
    "samps = jax.vmap(lambda k: cos_tau_prior.sample(k, condition=jnp.array([0.5])))(jax.random.split(jax.random.key(1), 1_000)).squeeze()"
   ]
  },
  {
   "cell_type": "code",
   "execution_count": 15,
   "id": "1cbf0912",
   "metadata": {},
   "outputs": [],
   "source": [
    "samps2 = jax.vmap(lambda k: cos_tau_prior.sample(k, condition=jnp.array([0.001])))(jax.random.split(jax.random.key(1), 1_000)).squeeze()"
   ]
  },
  {
   "cell_type": "code",
   "execution_count": 16,
   "id": "41638bc3",
   "metadata": {},
   "outputs": [],
   "source": [
    "samps2 = jax.vmap(lambda k: cos_tau_prior.sample(k, condition=jnp.array([2])))(jax.random.split(jax.random.key(1), 1_000)).squeeze()"
   ]
  },
  {
   "cell_type": "code",
   "execution_count": 17,
   "id": "2322cfe9",
   "metadata": {},
   "outputs": [],
   "source": [
    "samps10 = jax.vmap(lambda k: cos_tau_prior.sample(k, condition=jnp.array([10])))(jax.random.split(jax.random.key(1), 1_000)).squeeze()"
   ]
  },
  {
   "cell_type": "code",
   "execution_count": 18,
   "id": "ba46d939",
   "metadata": {},
   "outputs": [
    {
     "data": {
      "image/png": "[encoded data removed]",
      "text/plain": [
       "<Figure size 640x480 with 1 Axes>"
      ]
     },
     "metadata": {},
     "output_type": "display_data"
    }
   ],
   "source": [
    "import numpy as np\n",
    "import matplotlib.pyplot as plt\n",
    "\n",
    "bins = np.linspace(-1, 1, 100)\n",
    "\n",
    "fig, ax = plt.subplots()\n",
    "ax.hist(samps, histtype='step', bins=bins);\n",
    "ax.hist(samps2, histtype='step', bins=bins);\n",
    "ax.hist(samps10, histtype='step', bins=bins);\n"
   ]
  },
  {
   "cell_type": "markdown",
   "id": "1db637ed",
   "metadata": {},
   "source": [
    "$$p(\\cos \\tau | \\Lambda) = \\int d \\vec{u} \\, p(\\tau | \\vec{u}) p(\\vec{u} | \\Lambda) $$\n",
    "\n",
    "with \n",
    "\n",
    "$$ p(\\cos \\tau | \\vec{u}) = \\delta (\\cos \\tau - \\cos \\tau(\\vec{u})) $$\n",
    "\n",
    "where\n",
    "\n",
    "$$ \\cos^2 \\tau = \\frac{ (u \\cos \\theta + 1)^2 }{ u^2 \\sin^2 \\theta \\cos^2 \\phi + (u \\cos \\theta + 1)^2 }"
   ]
  },
  {
   "cell_type": "code",
   "execution_count": 19,
   "id": "12313372",
   "metadata": {},
   "outputs": [],
   "source": [
    "test_u = jnp.linspace(0, 2, 500)\n",
    "test_ct = jnp.linspace(-1 + 1e-10, 1 - 1e-10, 500)\n",
    "\n",
    "uu, cc = jnp.meshgrid(test_u, test_ct, indexing='ij') # (Nu, Nc)\n",
    "\n",
    "vec_f = jnp.vectorize(\n",
    "    lambda a, b: cos_tau_prior.log_prob(b, a),             # each a,b will be shape (1,)\n",
    "    signature=\"(1),(1)->()\"           # declare the core/event dim\n",
    ")\n",
    "\n",
    "log_probs = vec_f(uu[..., None], cc[..., None])"
   ]
  },
  {
   "cell_type": "code",
   "execution_count": 79,
   "id": "bd72efd4",
   "metadata": {},
   "outputs": [],
   "source": [
    "from interpax import Interpolator2D\n",
    "\n",
    "interp = Interpolator2D(test_u, test_ct, log_probs, method='linear')"
   ]
  },
  {
   "cell_type": "code",
   "execution_count": 20,
   "id": "3efaa882",
   "metadata": {},
   "outputs": [],
   "source": [
    "def tilts_marg_over_kicks(cos_tau, mu_kick, sigma_kick):\n",
    "    u = jnp.linspace(0, 2, 500)\n",
    "\n",
    "    log_p_cos_tau_given_u = jax.vmap(\n",
    "        lambda x: cos_tau_prior.log_prob(cos_tau, condition=x)\n",
    "    )(u[:, None]).squeeze()\n",
    "\n",
    "    #log_p_cos_tau_given_u = interp(\n",
    "    #    jnp.tile(cos_tau, len(u)),\n",
    "    #    u\n",
    "    #)\n",
    "\n",
    "    p_u = jax.vmap(\n",
    "        lambda x: truncnorm(\n",
    "            jnp.log(x), mu=mu_kick, sigma=sigma_kick, high=2, low=0\n",
    "        )\n",
    "    )(u)\n",
    "\n",
    "    integrand = jnp.exp(log_p_cos_tau_given_u) * p_u\n",
    "\n",
    "    return jnp.trapezoid(integrand, u)"
   ]
  },
  {
   "cell_type": "code",
   "execution_count": 21,
   "id": "05d5b7cf",
   "metadata": {},
   "outputs": [
    {
     "data": {
      "text/plain": [
       "1065922"
      ]
     },
     "execution_count": 21,
     "metadata": {},
     "output_type": "execute_result"
    }
   ],
   "source": [
    "len(injections['prior'])"
   ]
  },
  {
   "cell_type": "code",
   "execution_count": 29,
   "id": "1b0f847f",
   "metadata": {},
   "outputs": [],
   "source": [
    "def tilt_model(dataset, parameters):\n",
    "    \n",
    "    def fn(cos_tau):\n",
    "        return tilts_marg_over_kicks(\n",
    "            jnp.array([cos_tau]),\n",
    "            parameters['mu_kick'],\n",
    "            parameters['sigma_kick']\n",
    "        )\n",
    "\n",
    "    in_shape = dataset['cos_tilt_1'].shape\n",
    "\n",
    "    p_cos_tau_1 = jax.lax.map(\n",
    "        fn, dataset['cos_tilt_1'].flatten(), batch_size=100 #10_000\n",
    "    ).reshape(in_shape)\n",
    "    p_cos_tau_2 = jax.lax.map(\n",
    "        fn, dataset['cos_tilt_2'].flatten(), batch_size=100 #10_000\n",
    "    ).reshape(in_shape)\n",
    "\n",
    "    return p_cos_tau_1 * p_cos_tau_2 "
   ]
  },
  {
   "cell_type": "code",
   "execution_count": null,
   "id": "4fac4508",
   "metadata": {},
   "outputs": [],
   "source": [
    "@eqx.filter_jit\n",
    "def tilt_model(dataset, parameters):\n",
    "    mu, sig = parameters['mu_kick'], parameters['sigma_kick']\n",
    "\n",
    "    # Base op: takes a scalar, wraps to length-1 array for the kernel.\n",
    "    def base_scalar(cos_tau_scalar):\n",
    "        return tilts_marg_over_kicks(jnp.array([cos_tau_scalar]), mu, sig)\n",
    "\n",
    "    # Shape-polymorphic vmap: handles 1D or 2D without flatten/reshape.\n",
    "    def vmap_over(x):\n",
    "        if x.ndim == 1:\n",
    "            return jax.lax.map(base_scalar, x, batch_size=10_000) #jax.vmap(base_scalar, in_axes=0)(x)\n",
    "        elif x.ndim == 2:\n",
    "            return jax.lax.map(\n",
    "                lambda r: jax.lax.map(base_scalar, r, batch_size=10), #jax.vmap(base_scalar)(r),\n",
    "                x,\n",
    "                batch_size=1\n",
    "            )\n",
    "            #return jax.lax.map(jax.vmap(base_scalar, in_axes=0),    ) #jax.vmap(jax.vmap(base_scalar, in_axes=0), in_axes=0)(x)\n",
    "        else:\n",
    "            raise ValueError(f\"Expected 1D or 2D, got {x.shape}\")\n",
    "\n",
    "    #vm = jax.jit(vmap_over)\n",
    "\n",
    "    p1 = vmap_over(dataset['cos_tilt_1'])\n",
    "    p2 = vmap_over(dataset['cos_tilt_2'])\n",
    "\n",
    "    return p1 * p2"
   ]
  },
  {
   "cell_type": "code",
   "execution_count": 60,
   "id": "f852f9cd",
   "metadata": {},
   "outputs": [],
   "source": [
    "def model_kick(dataset, parameters):\n",
    "    lam_tilde_0 = parameters['lam_tilde_0']\n",
    "    lam_tilde_1 = parameters['lam_tilde_1']\n",
    "    lam_tilde_2 = parameters['lam_tilde_2']\n",
    "\n",
    "    norm = lam_tilde_0 + lam_tilde_1 + lam_tilde_2\n",
    "    parameters['lam0'] = lam_tilde_0 / norm\n",
    "    parameters['lam1'] = lam_tilde_1 / norm\n",
    "    parameters['lam2'] = lam_tilde_2 / norm\n",
    "\n",
    "    #p_m1qzmag = bplm1q_plz_truncnormmag(dataset, parameters)\n",
    "\n",
    "    log_p_m1 = BrokenPowerlawPlusTwoPeaks_PrimaryMass(\n",
    "        dataset,\n",
    "        alpha_1=parameters['alpha1'],\n",
    "        alpha_2=parameters['alpha2'],\n",
    "        mmin=parameters['mmin'],\n",
    "        break_mass=parameters['mbreak'],\n",
    "        delta_m_1=parameters['delta_m'],\n",
    "        lam_fractions=[\n",
    "            parameters['lam0'],\n",
    "            parameters['lam1'],\n",
    "            parameters['lam2']\n",
    "        ],\n",
    "        mpp_1=parameters['mpp1'],\n",
    "        sigpp_1=parameters['sigpp1'],\n",
    "        mpp_2=parameters['mpp2'],\n",
    "        sigpp_2=parameters['sigpp2'],\n",
    "    )\n",
    "    p_m1 = jnp.exp(log_p_m1)\n",
    "\n",
    "    log_p_q = PowerlawPlusPeak_MassRatio(\n",
    "        dataset,\n",
    "        slope=parameters['beta'],\n",
    "        minimum=parameters['mmin'],\n",
    "        delta_m=parameters['delta_m']\n",
    "    )\n",
    "    p_q = jnp.exp(log_p_q)\n",
    "\n",
    "    log_p_z = log_powerlaw_redshift(dataset, parameters)\n",
    "    p_z = jnp.exp(log_p_z)\n",
    "\n",
    "    p_a1 = truncnorm(\n",
    "        dataset['a_1'],\n",
    "        parameters['mu_chi'],\n",
    "        parameters['sigma_chi'],\n",
    "        high=1,\n",
    "        low=0\n",
    "    )\n",
    "    p_a2 = truncnorm(\n",
    "        dataset['a_2'],\n",
    "        parameters['mu_chi'],\n",
    "        parameters['sigma_chi'],\n",
    "        high=1,\n",
    "        low=0\n",
    "    )\n",
    "\n",
    "    p_tilt = tilt_model(dataset, parameters)\n",
    "\n",
    "    return p_m1 * p_q * p_z * p_a1 * p_a2 * p_tilt"
   ]
  },
  {
   "cell_type": "code",
   "execution_count": 61,
   "id": "8cc6a3f7",
   "metadata": {},
   "outputs": [],
   "source": [
    "param_keys, bounds, log_prior = convert_bilby_uniform_prior('./kick.prior')"
   ]
  },
  {
   "cell_type": "code",
   "execution_count": 62,
   "id": "0f23a21b",
   "metadata": {},
   "outputs": [],
   "source": [
    "maximum_variance = 1\n",
    "\n",
    "def log_likelihood(parameters):\n",
    "    parameters = dict(zip(param_keys, parameters))\n",
    "    lkl, var, _, _, _ = shape_ln_likelihood_and_variance(\n",
    "        posteriors, injections, model_kick, parameters\n",
    "    )\n",
    "    return lkl, var\n",
    "\n",
    "\n",
    "def log_posterior(parameters):\n",
    "    lkl, var = log_likelihood(parameters)\n",
    "    return lkl + taper(maximum_variance, var) + log_prior(parameters)"
   ]
  },
  {
   "cell_type": "code",
   "execution_count": 66,
   "id": "cd7958ac",
   "metadata": {},
   "outputs": [],
   "source": [
    "import pickle\n",
    "\n",
    "with open('./posteriors.pkl', 'wb') as f:\n",
    "    pickle.dump(posteriors, f)\n",
    "\n",
    "with open('./injections.pkl', 'wb') as f:\n",
    "    pickle.dump(injections, f)"
   ]
  },
  {
   "cell_type": "code",
   "execution_count": 63,
   "id": "d742f4f2",
   "metadata": {},
   "outputs": [],
   "source": [
    "flow_init = default_flow(jax.random.key(1), bounds)"
   ]
  },
  {
   "cell_type": "code",
   "execution_count": 64,
   "id": "32227216",
   "metadata": {},
   "outputs": [
    {
     "name": "stderr",
     "output_type": "stream",
     "text": [
      "2025-09-29 16:52:56.680611: W external/xla/xla/hlo/transforms/simplifiers/hlo_rematerialization.cc:3023] Can't reduce memory use below 6.87GiB (7377510372 bytes) by rematerialization; only reduced to 10.87GiB (11672564255 bytes), down from 10.99GiB (11798189423 bytes) originally\n",
      "2025-09-29 16:53:37.633053: W external/xla/xla/tsl/framework/bfc_allocator.cc:501] Allocator (GPU_0_bfc) ran out of memory trying to allocate 10.91GiB (rounded to 11712494336)requested by op \n",
      "If the cause is memory fragmentation maybe the environment variable 'TF_GPU_ALLOCATOR=cuda_malloc_async' will improve the situation. \n",
      "Current allocation summary follows.\n",
      "Current allocation summary follows.\n",
      "2025-09-29 16:53:37.633677: W external/xla/xla/tsl/framework/bfc_allocator.cc:512] ___________________________________________________________________________________________________*\n",
      "E0929 16:53:37.633705 1784971 pjrt_stream_executor_client.cc:2916] Execution of replica 0 failed: RESOURCE_EXHAUSTED: Out of memory while trying to allocate 11712494088 bytes. [tf-allocator-allocation-error='']\n"
     ]
    },
    {
     "ename": "XlaRuntimeError",
     "evalue": "RESOURCE_EXHAUSTED: Out of memory while trying to allocate 11712494088 bytes.",
     "output_type": "error",
     "traceback": [
      "\u001b[31m---------------------------------------------------------------------------\u001b[39m",
      "\u001b[31mXlaRuntimeError\u001b[39m                           Traceback (most recent call last)",
      "\u001b[36mCell\u001b[39m\u001b[36m \u001b[39m\u001b[32mIn[64]\u001b[39m\u001b[32m, line 1\u001b[39m\n\u001b[32m----> \u001b[39m\u001b[32m1\u001b[39m flow, loss = \u001b[43mfit\u001b[49m\u001b[43m(\u001b[49m\u001b[43mjax\u001b[49m\u001b[43m.\u001b[49m\u001b[43mrandom\u001b[49m\u001b[43m.\u001b[49m\u001b[43mkey\u001b[49m\u001b[43m(\u001b[49m\u001b[32;43m2\u001b[39;49m\u001b[43m)\u001b[49m\u001b[43m,\u001b[49m\u001b[43m \u001b[49m\u001b[43mflow_init\u001b[49m\u001b[43m,\u001b[49m\u001b[43m \u001b[49m\u001b[43mlog_posterior\u001b[49m\u001b[43m,\u001b[49m\u001b[43m \u001b[49m\u001b[43msteps\u001b[49m\u001b[43m=\u001b[49m\u001b[32;43m10\u001b[39;49m\u001b[43m)\u001b[49m\n",
      "\u001b[36mFile \u001b[39m\u001b[32m~/projects/tilts-and-kicks/code/variational.py:32\u001b[39m, in \u001b[36mfit\u001b[39m\u001b[34m(key, flow, log_target, clip, lr, steps, batch_size)\u001b[39m\n\u001b[32m     29\u001b[39m \u001b[38;5;28;01melse\u001b[39;00m:\n\u001b[32m     30\u001b[39m     optimizer = optax.adam(learning_rate=learning_rate) \n\u001b[32m---> \u001b[39m\u001b[32m32\u001b[39m flow, losses = \u001b[43mtrain\u001b[49m\u001b[43m(\u001b[49m\n\u001b[32m     33\u001b[39m \u001b[43m    \u001b[49m\u001b[43mkey\u001b[49m\u001b[43m,\u001b[49m\n\u001b[32m     34\u001b[39m \u001b[43m    \u001b[49m\u001b[43mflow\u001b[49m\u001b[43m,\u001b[49m\n\u001b[32m     35\u001b[39m \u001b[43m    \u001b[49m\u001b[38;5;28;43;01mlambda\u001b[39;49;00m\u001b[43m \u001b[49m\u001b[43mx\u001b[49m\u001b[43m,\u001b[49m\u001b[43m \u001b[49m\u001b[43m_\u001b[49m\u001b[43m \u001b[49m\u001b[43m:\u001b[49m\u001b[43m \u001b[49m\u001b[43mlog_target\u001b[49m\u001b[43m(\u001b[49m\u001b[43mx\u001b[49m\u001b[43m)\u001b[49m\u001b[43m,\u001b[49m\n\u001b[32m     36\u001b[39m \u001b[43m    \u001b[49m\u001b[43msteps\u001b[49m\u001b[43m,\u001b[49m\n\u001b[32m     37\u001b[39m \u001b[43m    \u001b[49m\u001b[43moptimizer\u001b[49m\u001b[43m,\u001b[49m\n\u001b[32m     38\u001b[39m \u001b[43m    \u001b[49m\u001b[43mbatch_size\u001b[49m\u001b[43m=\u001b[49m\u001b[43mbatch_size\u001b[49m\n\u001b[32m     39\u001b[39m \u001b[43m\u001b[49m\u001b[43m)\u001b[49m\n\u001b[32m     40\u001b[39m \u001b[38;5;28;01mreturn\u001b[39;00m flow, losses\n",
      "\u001b[36mFile \u001b[39m\u001b[32m~/projects/tilts-and-kicks/code/variational.py:183\u001b[39m, in \u001b[36mtrain\u001b[39m\u001b[34m(key, flow, log_target, steps, optimizer, batch_size, map_batch_size, reject_non_finite, state, return_state)\u001b[39m\n\u001b[32m    180\u001b[39m         params = eqx.apply_updates(params, updates)\n\u001b[32m    181\u001b[39m         \u001b[38;5;28;01mreturn\u001b[39;00m (key, params, state), loss\n\u001b[32m--> \u001b[39m\u001b[32m183\u001b[39m (key, params, state), losses = \u001b[43mjax\u001b[49m\u001b[43m.\u001b[49m\u001b[43mlax\u001b[49m\u001b[43m.\u001b[49m\u001b[43mscan\u001b[49m\u001b[43m(\u001b[49m\n\u001b[32m    184\u001b[39m \u001b[43m    \u001b[49m\u001b[43mupdate\u001b[49m\u001b[43m,\u001b[49m\u001b[43m \u001b[49m\u001b[43m(\u001b[49m\u001b[43mkey\u001b[49m\u001b[43m,\u001b[49m\u001b[43m \u001b[49m\u001b[43mparams\u001b[49m\u001b[43m,\u001b[49m\u001b[43m \u001b[49m\u001b[43mstate\u001b[49m\u001b[43m)\u001b[49m\u001b[43m,\u001b[49m\u001b[43m \u001b[49m\u001b[43mjnp\u001b[49m\u001b[43m.\u001b[49m\u001b[43marange\u001b[49m\u001b[43m(\u001b[49m\u001b[43msteps\u001b[49m\u001b[43m)\u001b[49m\u001b[43m,\u001b[49m\n\u001b[32m    185\u001b[39m \u001b[43m\u001b[49m\u001b[43m)\u001b[49m\n\u001b[32m    186\u001b[39m flow = eqx.combine(params, static)\n\u001b[32m    188\u001b[39m \u001b[38;5;28;01mif\u001b[39;00m return_state:\n",
      "    \u001b[31m[... skipping hidden 12 frame]\u001b[39m\n",
      "\u001b[36mFile \u001b[39m\u001b[32m~/.conda/envs/seqpop/lib/python3.11/site-packages/jax/_src/interpreters/pxla.py:1297\u001b[39m, in \u001b[36mExecuteReplicated.__call__\u001b[39m\u001b[34m(self, *args)\u001b[39m\n\u001b[32m   1294\u001b[39m \u001b[38;5;28;01mif\u001b[39;00m (\u001b[38;5;28mself\u001b[39m.ordered_effects \u001b[38;5;129;01mor\u001b[39;00m \u001b[38;5;28mself\u001b[39m.has_unordered_effects\n\u001b[32m   1295\u001b[39m     \u001b[38;5;129;01mor\u001b[39;00m \u001b[38;5;28mself\u001b[39m.has_host_callbacks):\n\u001b[32m   1296\u001b[39m   input_bufs = \u001b[38;5;28mself\u001b[39m._add_tokens_to_inputs(input_bufs)\n\u001b[32m-> \u001b[39m\u001b[32m1297\u001b[39m   results = \u001b[38;5;28;43mself\u001b[39;49m\u001b[43m.\u001b[49m\u001b[43mxla_executable\u001b[49m\u001b[43m.\u001b[49m\u001b[43mexecute_sharded\u001b[49m\u001b[43m(\u001b[49m\n\u001b[32m   1298\u001b[39m \u001b[43m      \u001b[49m\u001b[43minput_bufs\u001b[49m\u001b[43m,\u001b[49m\u001b[43m \u001b[49m\u001b[43mwith_tokens\u001b[49m\u001b[43m=\u001b[49m\u001b[38;5;28;43;01mTrue\u001b[39;49;00m\n\u001b[32m   1299\u001b[39m \u001b[43m  \u001b[49m\u001b[43m)\u001b[49m\n\u001b[32m   1301\u001b[39m   result_token_bufs = results.disassemble_prefix_into_single_device_arrays(\n\u001b[32m   1302\u001b[39m       \u001b[38;5;28mlen\u001b[39m(\u001b[38;5;28mself\u001b[39m.ordered_effects))\n\u001b[32m   1303\u001b[39m   sharded_runtime_token = results.consume_token()\n",
      "\u001b[31mXlaRuntimeError\u001b[39m: RESOURCE_EXHAUSTED: Out of memory while trying to allocate 11712494088 bytes."
     ]
    }
   ],
   "source": [
    "flow, loss = fit(jax.random.key(2), flow_init, log_posterior, steps=10)"
   ]
  },
  {
   "cell_type": "markdown",
   "id": "a7cc4185",
   "metadata": {},
   "source": [
    "## old"
   ]
  },
  {
   "cell_type": "code",
   "execution_count": 14,
   "id": "27344dbd",
   "metadata": {},
   "outputs": [],
   "source": [
    "def model(dataset, parameters):\n",
    "    lam_tilde_0 = parameters['lam_tilde_0']\n",
    "    lam_tilde_1 = parameters['lam_tilde_1']\n",
    "    lam_tilde_2 = parameters['lam_tilde_2']\n",
    "\n",
    "    norm = lam_tilde_0 + lam_tilde_1 + lam_tilde_2\n",
    "    parameters['lam0'] = lam_tilde_0 / norm\n",
    "    parameters['lam1'] = lam_tilde_1 / norm\n",
    "    parameters['lam2'] = lam_tilde_2 / norm\n",
    "\n",
    "    #p_m1qzmag = bplm1q_plz_truncnormmag(dataset, parameters)\n",
    "\n",
    "    log_p_m1 = BrokenPowerlawPlusTwoPeaks_PrimaryMass(\n",
    "        dataset,\n",
    "        alpha_1=parameters['alpha1'],\n",
    "        alpha_2=parameters['alpha2'],\n",
    "        mmin=parameters['mmin'],\n",
    "        break_mass=parameters['mbreak'],\n",
    "        delta_m_1=parameters['delta_m'],\n",
    "        lam_fractions=[\n",
    "            parameters['lam0'],\n",
    "            parameters['lam1'],\n",
    "            parameters['lam2']\n",
    "        ],\n",
    "        mpp_1=parameters['mpp1'],\n",
    "        sigpp_1=parameters['sigpp1'],\n",
    "        mpp_2=parameters['mpp2'],\n",
    "        sigpp_2=parameters['sigpp2'],\n",
    "    )\n",
    "    p_m1 = jnp.exp(log_p_m1)\n",
    "\n",
    "    log_p_q = PowerlawPlusPeak_MassRatio(\n",
    "        dataset,\n",
    "        slope=parameters['beta'],\n",
    "        minimum=parameters['mmin'],\n",
    "        delta_m=parameters['delta_m']\n",
    "    )\n",
    "    p_q = jnp.exp(log_p_q)\n",
    "\n",
    "    log_p_z = log_powerlaw_redshift(dataset, parameters)\n",
    "    p_z = jnp.exp(log_p_z)\n",
    "\n",
    "    p_a1 = truncnorm(\n",
    "        dataset['a_1'],\n",
    "        parameters['mu_chi'],\n",
    "        parameters['sigma_chi'],\n",
    "        high=1,\n",
    "        low=0\n",
    "    )\n",
    "    p_a2 = truncnorm(\n",
    "        dataset['a_2'],\n",
    "        parameters['mu_chi'],\n",
    "        parameters['sigma_chi'],\n",
    "        high=1,\n",
    "        low=0\n",
    "    )\n",
    "\n",
    "    p_tilt = iso_gauss_spin_tilt(\n",
    "        dataset,\n",
    "        xi_spin=parameters['xi_spin'],\n",
    "        sigma_spin=parameters['sigma_spin'],\n",
    "        mu_spin=parameters['mu_spin']\n",
    "    )\n",
    "\n",
    "    return p_m1 * p_q * p_z * p_a1 * p_a2 * p_tilt"
   ]
  },
  {
   "cell_type": "code",
   "execution_count": 15,
   "id": "0fb7c1ed",
   "metadata": {},
   "outputs": [],
   "source": [
    "maximum_variance = 1\n",
    "\n",
    "def log_likelihood(parameters):\n",
    "    parameters = dict(zip(param_keys, parameters))\n",
    "    lkl, var, _, _, _ = shape_ln_likelihood_and_variance(\n",
    "        posteriors, injections, model, parameters\n",
    "    )\n",
    "    return lkl, var\n",
    "\n",
    "\n",
    "def log_posterior(parameters):\n",
    "    lkl, var = log_likelihood(parameters)\n",
    "    return lkl + taper(maximum_variance, var) + log_prior(parameters)"
   ]
  },
  {
   "cell_type": "code",
   "execution_count": 16,
   "id": "1f9d6a00",
   "metadata": {},
   "outputs": [],
   "source": [
    "flow_init = default_flow(jax.random.key(1), bounds)"
   ]
  },
  {
   "cell_type": "code",
   "execution_count": 19,
   "id": "9a33bc37",
   "metadata": {},
   "outputs": [
    {
     "name": "stderr",
     "output_type": "stream",
     "text": [
      "train: 100%|██████████| 1000/1000 [00:05<00:00, 174.15it/s]\n"
     ]
    }
   ],
   "source": [
    "flow, loss = fit(jax.random.key(2), flow_init, log_posterior, steps=1_000)"
   ]
  },
  {
   "cell_type": "code",
   "execution_count": 20,
   "id": "dbe5d578",
   "metadata": {},
   "outputs": [
    {
     "data": {
      "text/plain": [
       "(<Figure size 640x480 with 1 Axes>, <Axes: >)"
      ]
     },
     "execution_count": 20,
     "metadata": {},
     "output_type": "execute_result"
    },
    {
     "data": {
      "image/png": "[encoded data removed]",
      "text/plain": [
       "<Figure size 640x480 with 1 Axes>"
      ]
     },
     "metadata": {},
     "output_type": "display_data"
    }
   ],
   "source": [
    "from util import plot_loss\n",
    "\n",
    "plot_loss(loss, zoom=True)"
   ]
  },
  {
   "cell_type": "code",
   "execution_count": 22,
   "id": "26cc2d71",
   "metadata": {},
   "outputs": [],
   "source": [
    "samples, log_q = jax.vmap(flow.sample_and_log_prob)(jax.random.split(jax.random.key(3), 10_000))"
   ]
  },
  {
   "cell_type": "code",
   "execution_count": 23,
   "id": "bf07c40a",
   "metadata": {},
   "outputs": [],
   "source": [
    "log_p = jax.lax.map(log_posterior, samples, batch_size=10)"
   ]
  },
  {
   "cell_type": "code",
   "execution_count": 24,
   "id": "150793b9",
   "metadata": {},
   "outputs": [],
   "source": [
    "stats = estimate_convergence(log_p, log_q)"
   ]
  },
  {
   "cell_type": "code",
   "execution_count": 26,
   "id": "e41733e2",
   "metadata": {},
   "outputs": [
    {
     "data": {
      "text/plain": [
       "(array(0.68617368), Array(0.02536088, dtype=float64))"
      ]
     },
     "execution_count": 26,
     "metadata": {},
     "output_type": "execute_result"
    }
   ],
   "source": [
    "stats['kss'], stats['eff']"
   ]
  }
 ],
 "metadata": {
  "kernelspec": {
   "display_name": "seqpop",
   "language": "python",
   "name": "python3"
  },
  "language_info": {
   "codemirror_mode": {
    "name": "ipython",
    "version": 3
   },
   "file_extension": ".py",
   "mimetype": "text/x-python",
   "name": "python",
   "nbconvert_exporter": "python",
   "pygments_lexer": "ipython3",
   "version": "3.11.13"
  }
 },
 "nbformat": 4,
 "nbformat_minor": 5
}
